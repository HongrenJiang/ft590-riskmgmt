{
 "cells": [
  {
   "cell_type": "code",
   "execution_count": 118,
   "metadata": {
    "collapsed": true,
    "pycharm": {
     "name": "#%%\n"
    }
   },
   "outputs": [],
   "source": [
    "import pandas as pd\n",
    "import numpy as np\n",
    "from matplotlib import pyplot as plt\n",
    "from scipy import stats"
   ]
  },
  {
   "cell_type": "code",
   "execution_count": 119,
   "outputs": [
    {
     "name": "stdout",
     "output_type": "stream",
     "text": [
      "100\n"
     ]
    }
   ],
   "source": [
    "#import data\n",
    "df = pd.read_csv('problem2.csv')\n",
    "x = df['x'].values\n",
    "y = df['y'].values\n",
    "mean_x = np.mean(x)\n",
    "mean_y = np.mean(y)\n",
    "print(len(x))"
   ],
   "metadata": {
    "collapsed": false,
    "pycharm": {
     "name": "#%%\n"
    }
   }
  },
  {
   "cell_type": "code",
   "execution_count": 120,
   "outputs": [],
   "source": [
    "def normalitylikelihood(theta_hat, x, y):\n",
    "    sigma = 1\n",
    "    # Compute Gaussian likelihood\n",
    "    pdf = 1 / np.sqrt(2 * np.pi * sigma**2) * np.exp(-(y - theta_hat * x)**2 / (2 * sigma**2))\n",
    "    return pdf\n",
    "\n",
    "def tlikelihood(theta_hat, x, y):\n",
    "    #dfr is the degree of freedom\n",
    "    dfr = 99\n",
    "    loc = 0\n",
    "    scale = 1\n",
    "    # Compute studen-t likelihood\n",
    "    pdf = stats.t.pdf(y - theta_hat * x, dfr, loc, scale)\n",
    "    return pdf"
   ],
   "metadata": {
    "collapsed": false,
    "pycharm": {
     "name": "#%%\n"
    }
   }
  },
  {
   "cell_type": "code",
   "execution_count": 121,
   "outputs": [
    {
     "name": "stdout",
     "output_type": "stream",
     "text": [
      "0.1907837028531234\n",
      "0.1899311152676052\n"
     ]
    }
   ],
   "source": [
    "print(normalitylikelihood(1.0,x[2],y[2]))\n",
    "print(tlikelihood(1.0,x[2],y[2]))"
   ],
   "metadata": {
    "collapsed": false,
    "pycharm": {
     "name": "#%%\n"
    }
   }
  },
  {
   "cell_type": "code",
   "execution_count": 122,
   "outputs": [],
   "source": [
    "theta_hat_mle = (x @ y) / (x @ x)"
   ],
   "metadata": {
    "collapsed": false,
    "pycharm": {
     "name": "#%%\n"
    }
   }
  },
  {
   "cell_type": "code",
   "execution_count": 123,
   "outputs": [],
   "source": [
    "def Lfunction(theta_hat, x, y, distribution):\n",
    "    if distribution == 'normality':\n",
    "        L = 0\n",
    "        for i in range(0,100):\n",
    "            L += np.log(normalitylikelihood(theta_hat,x[i],y[i]))\n",
    "        return L\n",
    "    elif distribution == 't':\n",
    "        L = 0\n",
    "        for i in range(0,100):\n",
    "            L += np.log(tlikelihood(theta_hat,x[i],y[i]))\n",
    "        return L"
   ],
   "metadata": {
    "collapsed": false,
    "pycharm": {
     "name": "#%%\n"
    }
   }
  },
  {
   "cell_type": "code",
   "execution_count": 124,
   "outputs": [
    {
     "name": "stdout",
     "output_type": "stream",
     "text": [
      "-171.80479706329518\n",
      "-170.05411966549306\n"
     ]
    }
   ],
   "source": [
    "print(Lfunction(1.0, x, y, 'normality'))\n",
    "print(Lfunction(1.0, x, y, 't'))"
   ],
   "metadata": {
    "collapsed": false,
    "pycharm": {
     "name": "#%%\n"
    }
   }
  },
  {
   "cell_type": "code",
   "execution_count": 125,
   "outputs": [],
   "source": [
    "theta = np.linspace(0,2,200000)\n",
    "Lnor = Lfunction(theta, x, y, 'normality')\n",
    "Lt = Lfunction(theta, x, y, 't')"
   ],
   "metadata": {
    "collapsed": false,
    "pycharm": {
     "name": "#%%\n"
    }
   }
  },
  {
   "cell_type": "code",
   "execution_count": 126,
   "outputs": [
    {
     "data": {
      "text/plain": "[<matplotlib.lines.Line2D at 0x7fcadf21b6d0>]"
     },
     "execution_count": 126,
     "metadata": {},
     "output_type": "execute_result"
    },
    {
     "data": {
      "text/plain": "<Figure size 432x288 with 1 Axes>",
      "image/png": "[encoded data removed]"
     },
     "metadata": {
      "needs_background": "light"
     },
     "output_type": "display_data"
    }
   ],
   "source": [
    "plt.plot(theta, Lnor)"
   ],
   "metadata": {
    "collapsed": false,
    "pycharm": {
     "name": "#%%\n"
    }
   }
  },
  {
   "cell_type": "code",
   "execution_count": 127,
   "outputs": [
    {
     "data": {
      "text/plain": "[<matplotlib.lines.Line2D at 0x7fcadefedf40>]"
     },
     "execution_count": 127,
     "metadata": {},
     "output_type": "execute_result"
    },
    {
     "data": {
      "text/plain": "<Figure size 432x288 with 1 Axes>",
      "image/png": "[encoded data removed]"
     },
     "metadata": {
      "needs_background": "light"
     },
     "output_type": "display_data"
    }
   ],
   "source": [
    "plt.plot(theta, Lt)"
   ],
   "metadata": {
    "collapsed": false,
    "pycharm": {
     "name": "#%%\n"
    }
   }
  },
  {
   "cell_type": "code",
   "execution_count": 128,
   "outputs": [],
   "source": [
    "theta_hat_mle_normality = Lnor.argmax() * 2 / 200000\n",
    "theta_hat_mle_t = Lt.argmax() * 2 / 200000"
   ],
   "metadata": {
    "collapsed": false,
    "pycharm": {
     "name": "#%%\n"
    }
   }
  },
  {
   "cell_type": "code",
   "execution_count": 129,
   "outputs": [
    {
     "name": "stdout",
     "output_type": "stream",
     "text": [
      "the slope estimated by mle(normality) is 0.605190 \n",
      "the intercept estimated by mle(normality) is 0.119836 \n"
     ]
    }
   ],
   "source": [
    "m = theta_hat_mle_normality\n",
    "c = mean_y - m * mean_x\n",
    "print(\"the slope estimated by mle(normality) is %.6f \" % m)\n",
    "print(\"the intercept estimated by mle(normality) is %.6f \" % c)"
   ],
   "metadata": {
    "collapsed": false,
    "pycharm": {
     "name": "#%%\n"
    }
   }
  },
  {
   "cell_type": "code",
   "execution_count": 130,
   "outputs": [
    {
     "name": "stdout",
     "output_type": "stream",
     "text": [
      "the slope estimated by mle(t) is 0.594180 \n",
      "the intercept estimated by mle(t) is 0.119835 \n"
     ]
    }
   ],
   "source": [
    "m2 = theta_hat_mle_t\n",
    "c2 = mean_y - m2 * mean_x\n",
    "print(\"the slope estimated by mle(t) is %.6f \" % m2)\n",
    "print(\"the intercept estimated by mle(t) is %.6f \" % c2)"
   ],
   "metadata": {
    "collapsed": false,
    "pycharm": {
     "name": "#%%\n"
    }
   }
  }
 ],
 "metadata": {
  "kernelspec": {
   "display_name": "Python 3",
   "language": "python",
   "name": "python3"
  },
  "language_info": {
   "codemirror_mode": {
    "name": "ipython",
    "version": 2
   },
   "file_extension": ".py",
   "mimetype": "text/x-python",
   "name": "python",
   "nbconvert_exporter": "python",
   "pygments_lexer": "ipython2",
   "version": "2.7.6"
  }
 },
 "nbformat": 4,
 "nbformat_minor": 0
}