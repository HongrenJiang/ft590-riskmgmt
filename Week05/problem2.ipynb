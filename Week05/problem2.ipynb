{
 "cells": [
  {
   "cell_type": "code",
   "execution_count": 1,
   "metadata": {
    "collapsed": true
   },
   "outputs": [],
   "source": [
    "import time\n",
    "\n",
    "import numpy as np\n",
    "import pandas as pd\n",
    "\n",
    "from riskmgmt import simulation\n",
    "from riskmgmt import covariance\n",
    "from riskmgmt import non_psd_fix\n",
    "from riskmgmt import var_es"
   ]
  },
  {
   "cell_type": "markdown",
   "source": [
    "## Test for Covariance and EWCovariance"
   ],
   "metadata": {
    "collapsed": false,
    "pycharm": {
     "name": "#%% md\n"
    }
   }
  },
  {
   "cell_type": "code",
   "execution_count": 2,
   "outputs": [],
   "source": [
    "DailyReturn = pd.read_csv(\"DailyReturn.csv\", index_col= 0)"
   ],
   "metadata": {
    "collapsed": false,
    "pycharm": {
     "name": "#%%\n"
    }
   }
  },
  {
   "cell_type": "code",
   "execution_count": 3,
   "outputs": [],
   "source": [
    "SPY = DailyReturn[\"SPY\"].to_numpy()[::-1]\n",
    "AAPL = DailyReturn[\"AAPL\"].to_numpy()[::-1]"
   ],
   "metadata": {
    "collapsed": false,
    "pycharm": {
     "name": "#%%\n"
    }
   }
  },
  {
   "cell_type": "code",
   "execution_count": 4,
   "outputs": [],
   "source": [
    "m = np.vstack((SPY, AAPL))"
   ],
   "metadata": {
    "collapsed": false,
    "pycharm": {
     "name": "#%%\n"
    }
   }
  },
  {
   "cell_type": "code",
   "execution_count": 5,
   "outputs": [
    {
     "data": {
      "text/plain": "array([[7.84558898e-05, 9.17763370e-05],\n       [9.17763370e-05, 2.57456530e-04]])"
     },
     "execution_count": 5,
     "metadata": {},
     "output_type": "execute_result"
    }
   ],
   "source": [
    "covariance.Covar(m)"
   ],
   "metadata": {
    "collapsed": false,
    "pycharm": {
     "name": "#%%\n"
    }
   }
  },
  {
   "cell_type": "code",
   "execution_count": 6,
   "outputs": [
    {
     "data": {
      "text/plain": "array([[8.57359775e-05, 1.08880505e-04],\n       [1.08880505e-04, 2.73808020e-04]])"
     },
     "execution_count": 6,
     "metadata": {},
     "output_type": "execute_result"
    }
   ],
   "source": [
    "covariance.ewCovar(m,0.97)"
   ],
   "metadata": {
    "collapsed": false,
    "pycharm": {
     "name": "#%%\n"
    }
   }
  },
  {
   "cell_type": "markdown",
   "source": [
    "## Test for Non-PSD fixes for correlation matrics"
   ],
   "metadata": {
    "collapsed": false,
    "pycharm": {
     "name": "#%% md\n"
    }
   }
  },
  {
   "cell_type": "code",
   "execution_count": 7,
   "outputs": [
    {
     "data": {
      "text/plain": "-7.299705284680158e-11"
     },
     "execution_count": 7,
     "metadata": {},
     "output_type": "execute_result"
    }
   ],
   "source": [
    "n = 500\n",
    "sigma = np.matrix(np.full((n, n), 0.9), dtype='float64')\n",
    "np.fill_diagonal(sigma, 1)\n",
    "sigma[0, 1] = 1\n",
    "sigma[1, 0] = 1\n",
    "\n",
    "root = non_psd_fix.chol_psd(sigma)\n",
    "(np.matmul(root, root.T) - sigma).sum()"
   ],
   "metadata": {
    "collapsed": false,
    "pycharm": {
     "name": "#%%\n"
    }
   }
  },
  {
   "cell_type": "code",
   "execution_count": 8,
   "outputs": [
    {
     "name": "stdout",
     "output_type": "stream",
     "text": [
      "Converged in 26 iterations.\n",
      "Distance near_psd() = 0.39378468350341517\n",
      "Distance higham_nearestPSD() = 0.008036763056475597\n"
     ]
    }
   ],
   "source": [
    "n = 500\n",
    "sigma = np.matrix(np.full((n, n), 0.9), dtype='float64')\n",
    "np.fill_diagonal(sigma, 1)\n",
    "sigma[0, 1] = 0.7357\n",
    "sigma[1, 0] = 0.7357\n",
    "\n",
    "W = np.matrix(np.diag(np.full(n,1.0)))\n",
    "\n",
    "hpsd = non_psd_fix.higham_nearestPSD(sigma)\n",
    "npsd = non_psd_fix.near_psd(sigma)\n",
    "norm_hpsd = non_psd_fix.wgtNorm(hpsd - sigma, W)\n",
    "norm_npsd = non_psd_fix.wgtNorm(npsd - sigma, W)\n",
    "print(\"Distance near_psd() = \" + str(norm_npsd))\n",
    "print(\"Distance higham_nearestPSD() = \" + str(norm_hpsd))"
   ],
   "metadata": {
    "collapsed": false,
    "pycharm": {
     "name": "#%%\n"
    }
   }
  },
  {
   "cell_type": "code",
   "execution_count": 9,
   "outputs": [
    {
     "name": "stdout",
     "output_type": "stream",
     "text": [
      "Converged in 26 iterations.\n",
      "n=1000\n",
      "Higam Took: 11.860476970672607 seconds\n",
      "Near_PSD Took: 0.15181803703308105 seconds\n"
     ]
    }
   ],
   "source": [
    "n = 1000\n",
    "sigma = np.matrix(np.full((n, n), 0.9), dtype='float64')\n",
    "np.fill_diagonal(sigma, 1)\n",
    "sigma[0, 1] = 0.7357\n",
    "sigma[1, 0] = 0.7357\n",
    "\n",
    "start = time.time()\n",
    "hpsd = non_psd_fix.higham_nearestPSD(sigma)\n",
    "end = time.time()\n",
    "higam_times = end - start\n",
    "\n",
    "start = time.time()\n",
    "npsd = non_psd_fix.near_psd(sigma)\n",
    "end = time.time()\n",
    "near_times = end - start\n",
    "\n",
    "print(\"n=1000\")\n",
    "print(\"Higam Took: \" + str(higam_times) + \" seconds\")\n",
    "print(\"Near_PSD Took: \" + str(near_times) + \" seconds\")"
   ],
   "metadata": {
    "collapsed": false,
    "pycharm": {
     "name": "#%%\n"
    }
   }
  },
  {
   "cell_type": "markdown",
   "source": [
    "## Test for simulation"
   ],
   "metadata": {
    "collapsed": false,
    "pycharm": {
     "name": "#%% md\n"
    }
   }
  },
  {
   "cell_type": "code",
   "execution_count": 10,
   "outputs": [
    {
     "data": {
      "text/plain": "array([[ 0.00260826, -0.00103618,  0.00536279, ...,  0.00270354,\n        -0.01377859,  0.00040902],\n       [ 0.00147385, -0.00528489, -0.00033627, ...,  0.00257024,\n        -0.01902807,  0.00511066],\n       [ 0.01089746, -0.00514866, -0.00333157, ...,  0.01044504,\n        -0.04232256,  0.01771662],\n       ...,\n       [ 0.01283166, -0.01095702, -0.00017314, ..., -0.00699643,\n         0.01212521, -0.01084672],\n       [-0.0046963 ,  0.01352631,  0.00201738, ...,  0.01020405,\n         0.00663342,  0.00958525],\n       [ 0.01284056, -0.00803953,  0.0171446 , ..., -0.01078016,\n        -0.01089774, -0.01969426]])"
     },
     "execution_count": 10,
     "metadata": {},
     "output_type": "execute_result"
    }
   ],
   "source": [
    "df = pd.read_csv(r'DailyReturn.csv').iloc[:, 1:]\n",
    "data = np.transpose(df.to_numpy())\n",
    "data"
   ],
   "metadata": {
    "collapsed": false,
    "pycharm": {
     "name": "#%%\n"
    }
   }
  },
  {
   "cell_type": "code",
   "execution_count": 11,
   "outputs": [],
   "source": [
    "pear_cov = np.matrix(df.cov())\n",
    "pear_var = df.var()\n",
    "pear_cor = np.matrix(df.corr())\n",
    "\n",
    "ewm_cov = np.matrix(covariance.ewCovar(data, 0.97))\n",
    "ewm_var = np.diag(ewm_cov)\n",
    "ewm_cor = covariance.getCor(ewm_cov)\n",
    "\n",
    "pear_var_cor = covariance.getCov(pear_var, pear_cor)\n",
    "pear_var_ewm_cor = covariance.getCov(pear_var, ewm_cor)\n",
    "ewm_var_pear_cor = covariance.getCov(ewm_var, pear_cor)\n",
    "ewm_var_cor = covariance.getCov(ewm_var, ewm_cor)"
   ],
   "metadata": {
    "collapsed": false,
    "pycharm": {
     "name": "#%%\n"
    }
   }
  },
  {
   "cell_type": "code",
   "execution_count": 12,
   "outputs": [],
   "source": [
    "# Print Function\n",
    "matrixType = [\"EWMA\", \"EWMA_COR_PEARSON_STD\", \"PEARSON\", \"PEARSON_COR_EWMA_STD\"]\n",
    "simType = [\"Full\", \"PCA=1\", \"PCA=0.75\", \"PCA=0.5\"]\n",
    "\n",
    "matrix = []\n",
    "simulation_l = []\n",
    "runtimes = []\n",
    "norms = []\n",
    "\n",
    "nsim = 25000\n",
    "for sim in simType:\n",
    "    for mat in matrixType:\n",
    "        matrix.append(mat)\n",
    "        simulation_l.append(sim)\n",
    "        elapse = 0\n",
    "\n",
    "        if mat == \"PEARSON\":\n",
    "            c = pear_var_cor\n",
    "        elif mat == \"EWMA_COR_PEARSON_STD\":\n",
    "            c = pear_var_ewm_cor\n",
    "        elif mat == \"EWMA\":\n",
    "            c = ewm_var_cor\n",
    "        elif mat == \"PEARSON_COR_EWMA_STD\":\n",
    "            c = ewm_var_pear_cor\n",
    "\n",
    "        if sim == 'Full':\n",
    "            start = time.time()\n",
    "            s = simulation.simulateNormal(nsim, c)\n",
    "            end = time.time()\n",
    "            elapse = end - start\n",
    "        elif sim == 'PCA=1':\n",
    "            start = time.time()\n",
    "            s = simulation.simulate_pca(c, nsim, 1)\n",
    "            end = time.time()\n",
    "            elapse = end - start\n",
    "        elif sim == 'PCA=0.75':\n",
    "            start = time.time()\n",
    "            s = simulation.simulate_pca(c, nsim, 0.75)\n",
    "            end = time.time()\n",
    "            elapse = end - start\n",
    "        elif sim == 'PCA=0.5':\n",
    "            start = time.time()\n",
    "            s = simulation.simulate_pca(c, nsim, 0.5)\n",
    "            end = time.time()\n",
    "            elapse = end - start\n",
    "\n",
    "\n",
    "        covar = np.cov(s)\n",
    "        runtimes.append(elapse)\n",
    "        norms.append(non_psd_fix.Norms(covar, c))"
   ],
   "metadata": {
    "collapsed": false,
    "pycharm": {
     "name": "#%%\n"
    }
   }
  },
  {
   "cell_type": "code",
   "execution_count": 13,
   "outputs": [
    {
     "data": {
      "text/plain": "                    Name Simulation          Norm   RunTime\n0                   EWMA       Full  5.409863e-07  0.108071\n1   EWMA_COR_PEARSON_STD       Full  7.597320e-07  0.104489\n2                PEARSON       Full  9.084485e-07  0.097424\n3   PEARSON_COR_EWMA_STD       Full  6.820326e-07  0.097441\n4                   EWMA      PCA=1  4.768120e-03  0.047034\n5   EWMA_COR_PEARSON_STD      PCA=1  5.398432e-03  0.044538\n6                PEARSON      PCA=1  6.758644e-03  0.072557\n7   PEARSON_COR_EWMA_STD      PCA=1  6.089614e-03  0.043286\n8                   EWMA   PCA=0.75  4.780298e-03  0.015240\n9   EWMA_COR_PEARSON_STD   PCA=0.75  5.413316e-03  0.010725\n10               PEARSON   PCA=0.75  6.782469e-03  0.010746\n11  PEARSON_COR_EWMA_STD   PCA=0.75  6.100142e-03  0.010645\n12                  EWMA    PCA=0.5  4.795433e-03  0.007485\n13  EWMA_COR_PEARSON_STD    PCA=0.5  5.421931e-03  0.005964\n14               PEARSON    PCA=0.5  6.783191e-03  0.006209\n15  PEARSON_COR_EWMA_STD    PCA=0.5  6.118998e-03  0.006312",
      "text/html": "<div>\n<style scoped>\n    .dataframe tbody tr th:only-of-type {\n        vertical-align: middle;\n    }\n\n    .dataframe tbody tr th {\n        vertical-align: top;\n    }\n\n    .dataframe thead th {\n        text-align: right;\n    }\n</style>\n<table border=\"1\" class=\"dataframe\">\n  <thead>\n    <tr style=\"text-align: right;\">\n      <th></th>\n      <th>Name</th>\n      <th>Simulation</th>\n      <th>Norm</th>\n      <th>RunTime</th>\n    </tr>\n  </thead>\n  <tbody>\n    <tr>\n      <th>0</th>\n      <td>EWMA</td>\n      <td>Full</td>\n      <td>5.409863e-07</td>\n      <td>0.108071</td>\n    </tr>\n    <tr>\n      <th>1</th>\n      <td>EWMA_COR_PEARSON_STD</td>\n      <td>Full</td>\n      <td>7.597320e-07</td>\n      <td>0.104489</td>\n    </tr>\n    <tr>\n      <th>2</th>\n      <td>PEARSON</td>\n      <td>Full</td>\n      <td>9.084485e-07</td>\n      <td>0.097424</td>\n    </tr>\n    <tr>\n      <th>3</th>\n      <td>PEARSON_COR_EWMA_STD</td>\n      <td>Full</td>\n      <td>6.820326e-07</td>\n      <td>0.097441</td>\n    </tr>\n    <tr>\n      <th>4</th>\n      <td>EWMA</td>\n      <td>PCA=1</td>\n      <td>4.768120e-03</td>\n      <td>0.047034</td>\n    </tr>\n    <tr>\n      <th>5</th>\n      <td>EWMA_COR_PEARSON_STD</td>\n      <td>PCA=1</td>\n      <td>5.398432e-03</td>\n      <td>0.044538</td>\n    </tr>\n    <tr>\n      <th>6</th>\n      <td>PEARSON</td>\n      <td>PCA=1</td>\n      <td>6.758644e-03</td>\n      <td>0.072557</td>\n    </tr>\n    <tr>\n      <th>7</th>\n      <td>PEARSON_COR_EWMA_STD</td>\n      <td>PCA=1</td>\n      <td>6.089614e-03</td>\n      <td>0.043286</td>\n    </tr>\n    <tr>\n      <th>8</th>\n      <td>EWMA</td>\n      <td>PCA=0.75</td>\n      <td>4.780298e-03</td>\n      <td>0.015240</td>\n    </tr>\n    <tr>\n      <th>9</th>\n      <td>EWMA_COR_PEARSON_STD</td>\n      <td>PCA=0.75</td>\n      <td>5.413316e-03</td>\n      <td>0.010725</td>\n    </tr>\n    <tr>\n      <th>10</th>\n      <td>PEARSON</td>\n      <td>PCA=0.75</td>\n      <td>6.782469e-03</td>\n      <td>0.010746</td>\n    </tr>\n    <tr>\n      <th>11</th>\n      <td>PEARSON_COR_EWMA_STD</td>\n      <td>PCA=0.75</td>\n      <td>6.100142e-03</td>\n      <td>0.010645</td>\n    </tr>\n    <tr>\n      <th>12</th>\n      <td>EWMA</td>\n      <td>PCA=0.5</td>\n      <td>4.795433e-03</td>\n      <td>0.007485</td>\n    </tr>\n    <tr>\n      <th>13</th>\n      <td>EWMA_COR_PEARSON_STD</td>\n      <td>PCA=0.5</td>\n      <td>5.421931e-03</td>\n      <td>0.005964</td>\n    </tr>\n    <tr>\n      <th>14</th>\n      <td>PEARSON</td>\n      <td>PCA=0.5</td>\n      <td>6.783191e-03</td>\n      <td>0.006209</td>\n    </tr>\n    <tr>\n      <th>15</th>\n      <td>PEARSON_COR_EWMA_STD</td>\n      <td>PCA=0.5</td>\n      <td>6.118998e-03</td>\n      <td>0.006312</td>\n    </tr>\n  </tbody>\n</table>\n</div>"
     },
     "execution_count": 13,
     "metadata": {},
     "output_type": "execute_result"
    }
   ],
   "source": [
    "result = pd.DataFrame(list(zip(matrix, simulation_l, norms, runtimes,)), columns = ['Name','Simulation', 'Norm', 'RunTime'])\n",
    "result"
   ],
   "metadata": {
    "collapsed": false,
    "pycharm": {
     "name": "#%%\n"
    }
   }
  },
  {
   "cell_type": "markdown",
   "source": [
    "## Test for VaR and ES"
   ],
   "metadata": {
    "collapsed": false,
    "pycharm": {
     "name": "#%% md\n"
    }
   }
  },
  {
   "cell_type": "code",
   "execution_count": 14,
   "outputs": [],
   "source": [
    "df = pd.read_csv(\"problem1.csv\")\n",
    "df = df - df.mean()\n",
    "var_norm = var_es.VaR_Norm(df)\n",
    "es_norm = var_es.ES_Norm(df)\n",
    "var_t = var_es.VaR_T(df)\n",
    "es_t = var_es.ES_T(df)\n",
    "var_his = var_es.VaR_History(df)\n",
    "es_his = var_es.ES_History(df)"
   ],
   "metadata": {
    "collapsed": false,
    "pycharm": {
     "name": "#%%\n"
    }
   }
  },
  {
   "cell_type": "code",
   "execution_count": 15,
   "outputs": [
    {
     "name": "stdout",
     "output_type": "stream",
     "text": [
      "VaR - Normal = 8.13%\n",
      "VaR - T = 7.57%\n",
      "VaR - History = 7.46%\n",
      "ES - Normal = 10.28%\n",
      "ES - T = 11.39%\n",
      "ES - History = 11.59%\n"
     ]
    }
   ],
   "source": [
    "print(f'VaR - Normal = {var_norm*100:.2f}%')\n",
    "print(f'VaR - T = {var_t*100:.2f}%')\n",
    "print(f'VaR - History = {var_his*100:.2f}%')\n",
    "print(f'ES - Normal = {es_norm*100:.2f}%')\n",
    "print(f'ES - T = {es_t*100:.2f}%')\n",
    "print(f'ES - History = {es_his*100:.2f}%')"
   ],
   "metadata": {
    "collapsed": false,
    "pycharm": {
     "name": "#%%\n"
    }
   }
  }
 ],
 "metadata": {
  "kernelspec": {
   "name": "pycharm-9b872806",
   "language": "python",
   "display_name": "PyCharm (ft590-riskmgmt)"
  },
  "language_info": {
   "codemirror_mode": {
    "name": "ipython",
    "version": 2
   },
   "file_extension": ".py",
   "mimetype": "text/x-python",
   "name": "python",
   "nbconvert_exporter": "python",
   "pygments_lexer": "ipython2",
   "version": "2.7.6"
  }
 },
 "nbformat": 4,
 "nbformat_minor": 0
}