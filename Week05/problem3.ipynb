{
 "cells": [
  {
   "cell_type": "code",
   "execution_count": 1,
   "metadata": {
    "collapsed": true
   },
   "outputs": [],
   "source": [
    "import pandas as pd\n",
    "import numpy as np\n",
    "\n",
    "from riskmgmt import var_es\n",
    "\n",
    "\n",
    "portfolio = pd.read_csv(\"portfolio.csv\")\n",
    "prices = pd.read_csv(\"DailyPrices.csv\")\n",
    "\n",
    "portfolioA = portfolio.loc[portfolio['Portfolio'] == \"A\"][[\"Stock\", \"Holding\"]]\n",
    "portfolioB = portfolio.loc[portfolio['Portfolio'] == \"B\"][[\"Stock\", \"Holding\"]]\n",
    "portfolioC = portfolio.loc[portfolio['Portfolio'] == \"C\"][[\"Stock\", \"Holding\"]]\n",
    "portfolio = portfolio[[\"Stock\", \"Holding\"]]\n",
    "\n",
    "portfolioA = portfolioA.set_index('Stock')\n",
    "portfolioB = portfolioB.set_index('Stock')\n",
    "portfolioC = portfolioC.set_index('Stock')\n",
    "portfolio = portfolio.set_index('Stock')\n",
    "\n",
    "pricesA = prices[list(portfolioA.index)]\n",
    "pricesB = prices[list(portfolioB.index)]\n",
    "pricesC = prices[list(portfolioC.index)]\n",
    "\n",
    "dpricesA = pricesA.diff()[1:]\n",
    "dpricesB = pricesB.diff()[1:]\n",
    "dpricesC = pricesC.diff()[1:]\n",
    "\n",
    "# Daily Weighed Average Return for Portfolio, or Profit and Loss\n",
    "PnLA = np.matrix(dpricesA) * np.matrix(portfolioA)\n",
    "PnLB = np.matrix(dpricesB) * np.matrix(portfolioB)\n",
    "PnLC = np.matrix(dpricesC) * np.matrix(portfolioC)\n",
    "PnL = PnLA + PnLB + PnLC"
   ]
  },
  {
   "cell_type": "code",
   "execution_count": 4,
   "outputs": [],
   "source": [
    "PnLA = pd.DataFrame(PnLA)\n",
    "PnLB = pd.DataFrame(PnLB)\n",
    "PnLC = pd.DataFrame(PnLC)\n",
    "PnL = pd.DataFrame(PnL)"
   ],
   "metadata": {
    "collapsed": false,
    "pycharm": {
     "name": "#%%\n"
    }
   }
  },
  {
   "cell_type": "code",
   "execution_count": 5,
   "outputs": [],
   "source": [
    "var_a = var_es.VaR_T(PnLA)\n",
    "var_b = var_es.VaR_T(PnLB)\n",
    "var_c = var_es.VaR_T(PnLC)\n",
    "var = var_es.VaR_T(PnL)\n",
    "\n",
    "es_a = var_es.ES_T(PnLA)\n",
    "es_b = var_es.ES_T(PnLB)\n",
    "es_c = var_es.ES_T(PnLC)\n",
    "es = var_es.ES_T(PnL)"
   ],
   "metadata": {
    "collapsed": false,
    "pycharm": {
     "name": "#%%\n"
    }
   }
  },
  {
   "cell_type": "code",
   "execution_count": 9,
   "outputs": [
    {
     "name": "stdout",
     "output_type": "stream",
     "text": [
      "VaR - A = $5957.81 \n",
      "VaR - B = $4549.88 \n",
      "VaR - C = $3088.05 \n",
      "VaR - Total = $12807.44 \n",
      "ES - A = $7411.69 \n",
      "ES - B = $6574.63 \n",
      "ES - C = $4241.02 \n",
      "ES - Total = $17764.04 \n"
     ]
    }
   ],
   "source": [
    "print(f'VaR - A = ${var_a:.2f} ')\n",
    "print(f'VaR - B = ${var_b:.2f} ')\n",
    "print(f'VaR - C = ${var_c:.2f} ')\n",
    "print(f'VaR - Total = ${var:.2f} ')\n",
    "print(f'ES - A = ${es_a:.2f} ')\n",
    "print(f'ES - B = ${es_b:.2f} ')\n",
    "print(f'ES - C = ${es_c:.2f} ')\n",
    "print(f'ES - Total = ${es:.2f} ')"
   ],
   "metadata": {
    "collapsed": false,
    "pycharm": {
     "name": "#%%\n"
    }
   }
  }
 ],
 "metadata": {
  "kernelspec": {
   "display_name": "Python 3",
   "language": "python",
   "name": "python3"
  },
  "language_info": {
   "codemirror_mode": {
    "name": "ipython",
    "version": 2
   },
   "file_extension": ".py",
   "mimetype": "text/x-python",
   "name": "python",
   "nbconvert_exporter": "python",
   "pygments_lexer": "ipython2",
   "version": "2.7.6"
  }
 },
 "nbformat": 4,
 "nbformat_minor": 0
}