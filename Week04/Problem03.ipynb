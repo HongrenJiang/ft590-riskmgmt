{
 "cells": [
  {
   "cell_type": "code",
   "execution_count": 1,
   "metadata": {},
   "outputs": [],
   "source": [
    "import pandas as pd\n",
    "import numpy as np\n",
    "import matplotlib.pyplot as plt"
   ]
  },
  {
   "cell_type": "code",
   "execution_count": 2,
   "metadata": {},
   "outputs": [],
   "source": [
    "portfolio = pd.read_csv(\"portfolio.csv\")\n",
    "prices = pd.read_csv(\"DailyPrices.csv\")"
   ]
  },
  {
   "cell_type": "code",
   "execution_count": 3,
   "metadata": {},
   "outputs": [],
   "source": [
    "portfolioA = portfolio.loc[portfolio['Portfolio'] == \"A\"][[\"Stock\", \"Holding\"]]\n",
    "portfolioB = portfolio.loc[portfolio['Portfolio'] == \"B\"][[\"Stock\", \"Holding\"]]\n",
    "portfolioC = portfolio.loc[portfolio['Portfolio'] == \"C\"][[\"Stock\", \"Holding\"]]\n",
    "portfolio = portfolio[[\"Stock\", \"Holding\"]]\n",
    "\n",
    "portfolioA = portfolioA.set_index('Stock')\n",
    "portfolioB = portfolioB.set_index('Stock')\n",
    "portfolioC = portfolioC.set_index('Stock')\n",
    "portfolio = portfolio.set_index('Stock')\n",
    "\n",
    "pricesA = prices[list(portfolioA.index)]\n",
    "pricesB = prices[list(portfolioB.index)]\n",
    "pricesC = prices[list(portfolioC.index)]\n",
    "\n",
    "dpricesA = pricesA.diff()[1:]\n",
    "dpricesB = pricesB.diff()[1:]\n",
    "dpricesC = pricesC.diff()[1:]"
   ]
  },
  {
   "cell_type": "code",
   "execution_count": 4,
   "metadata": {
    "scrolled": true
   },
   "outputs": [],
   "source": [
    "# Daily Weighed Average Return for Portfolio, or Profit and Loss\n",
    "PnLA = np.matrix(dpricesA) * np.matrix(portfolioA) \n",
    "PnLB = np.matrix(dpricesB) * np.matrix(portfolioB) \n",
    "PnLC = np.matrix(dpricesC) * np.matrix(portfolioC)\n",
    "PnL = PnLA + PnLB + PnLC"
   ]
  },
  {
   "cell_type": "code",
   "execution_count": 6,
   "metadata": {},
   "outputs": [
    {
     "name": "stdout",
     "output_type": "stream",
     "text": [
      "The simple historical VaR of A is -6469.05\n",
      "The simple historical VaR of B is -6073.01\n",
      "The simple historical VaR of C is -3679.06\n",
      "The simple historical total VaR is -16221.13\n"
     ]
    }
   ],
   "source": [
    "historic_var_A = np.percentile(PnLA, 5, interpolation=\"lower\")\n",
    "historic_var_B = np.percentile(PnLB, 5, interpolation=\"lower\")\n",
    "historic_var_C = np.percentile(PnLC, 5, interpolation=\"lower\")\n",
    "historic_var = np.percentile(PnL, 5, interpolation=\"lower\")\n",
    "print(f'The simple historical VaR of A is {historic_var_A:.2f}')\n",
    "print(f'The simple historical VaR of B is {historic_var_B:.2f}')\n",
    "print(f'The simple historical VaR of C is {historic_var_C:.2f}')\n",
    "print(f'The simple historical total VaR is {historic_var:.2f}')"
   ]
  },
  {
   "cell_type": "code",
   "execution_count": null,
   "metadata": {},
   "outputs": [],
   "source": []
  }
 ],
 "metadata": {
  "kernelspec": {
   "display_name": "Python 3",
   "language": "python",
   "name": "python3"
  },
  "language_info": {
   "codemirror_mode": {
    "name": "ipython",
    "version": 3
   },
   "file_extension": ".py",
   "mimetype": "text/x-python",
   "name": "python",
   "nbconvert_exporter": "python",
   "pygments_lexer": "ipython3",
   "version": "3.8.5"
  }
 },
 "nbformat": 4,
 "nbformat_minor": 4
}
