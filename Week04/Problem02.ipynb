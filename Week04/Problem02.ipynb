{
 "cells": [
  {
   "cell_type": "code",
   "execution_count": 1,
   "metadata": {},
   "outputs": [],
   "source": [
    "#pip install yfinance"
   ]
  },
  {
   "cell_type": "code",
   "execution_count": 2,
   "metadata": {},
   "outputs": [],
   "source": [
    "import pandas as pd\n",
    "import numpy as np\n",
    "import matplotlib.pyplot as plt\n",
    "from scipy.stats import norm"
   ]
  },
  {
   "cell_type": "code",
   "execution_count": 3,
   "metadata": {},
   "outputs": [],
   "source": [
    "import seaborn as sns\n",
    "\n",
    "sns.set_style(\"ticks\")"
   ]
  },
  {
   "cell_type": "code",
   "execution_count": 4,
   "metadata": {
    "scrolled": true
   },
   "outputs": [],
   "source": [
    "import yfinance as yf"
   ]
  },
  {
   "cell_type": "code",
   "execution_count": 5,
   "metadata": {},
   "outputs": [],
   "source": [
    "def arithmetic_return(price):\n",
    "    pct = (price / price.shift(1))[1:]\n",
    "    return pct - 1\n",
    "\n",
    "def log_return(price):\n",
    "    pct = (price / price.shift(1))[1:]\n",
    "    return np.log(pct)\n",
    "\n",
    "def cal_return(price, method):\n",
    "    if method == 'Arithmetic':\n",
    "        return arithmetic_return(price)\n",
    "    elif method == 'Log':\n",
    "        return log_return(price)"
   ]
  },
  {
   "cell_type": "code",
   "execution_count": 6,
   "metadata": {},
   "outputs": [],
   "source": [
    "prices = pd.read_csv(\"DailyPrices.csv\", parse_dates=[0], index_col=0)\n",
    "\n",
    "returns = cal_return(prices[\"INTC\"], method='Arithmetic')\n",
    "returns -= returns.mean()"
   ]
  },
  {
   "cell_type": "code",
   "execution_count": 7,
   "metadata": {},
   "outputs": [],
   "source": [
    "def VaR(simulations: 'array_like', mean='numeric', alpha: float=0.05):\n",
    "    return mean - np.quantile(simulations, q=alpha)"
   ]
  },
  {
   "cell_type": "code",
   "execution_count": 8,
   "metadata": {},
   "outputs": [
    {
     "name": "stdout",
     "output_type": "stream",
     "text": [
      "0.020725168575353364\n"
     ]
    }
   ],
   "source": [
    "var_hist = VaR(returns, 0)\n",
    "print(var_hist)"
   ]
  },
  {
   "cell_type": "code",
   "execution_count": 9,
   "metadata": {},
   "outputs": [
    {
     "name": "stdout",
     "output_type": "stream",
     "text": [
      "0.03404220302088202\n"
     ]
    }
   ],
   "source": [
    "nsample = 10000\n",
    "mu = 0\n",
    "sigma = np.std(returns)\n",
    "sim_rets_norm = np.random.normal(mu, sigma, nsample)\n",
    "\n",
    "var_norm = VaR(sim_rets_norm, 0)\n",
    "print(var_norm)"
   ]
  },
  {
   "cell_type": "code",
   "execution_count": 10,
   "metadata": {},
   "outputs": [],
   "source": [
    "# Exponentially Weighted Covariance\n",
    "def exponential_weights(lambda_, nlags):\n",
    "    weights = np.array([(1-lambda_) * (lambda_**(lag-1)) for lag in range(1,nlags+1)])\n",
    "    weights /= weights.sum() # normalized weights\n",
    "    return weights\n",
    "\n",
    "def cal_ewcov(data, lambda_):\n",
    "    \"\"\"\n",
    "    Calculate the exponentially weighted covariance of a dataset matrix.\n",
    "    Equation:\n",
    "    \n",
    "        \\sigma_t^2 = (1 − \\lambda) \\sum_{i=1}^{\\infty}{\\lambda^{i-1} (x_{t-i} - \\bar{x})^2}\n",
    "    \n",
    "    params:\n",
    "        - data: The dataset has n observations(ordered from the most recent to the least recent ) \n",
    "                on m varaibles. Can be denoted as [[x1_t-1, x1_t-2, ...., x1_t-n],\n",
    "                                                    ...,\n",
    "                                                   [xm_t-1, xm_t-2, ...., xm_t-n]].\n",
    "                The dataset should be an instance of np.matrix (but not np.array). \n",
    "        \n",
    "        - lambda_: to put how much weight on t-1's forecast variance\n",
    "    \"\"\"\n",
    "    \n",
    "    dev = data - data.mean(axis=1) # deviation\n",
    "    weights = exponential_weights(lambda_, data.shape[1])\n",
    "    \n",
    "    # apply the weights to the deviation\n",
    "    cov = dev @ np.diag(weights) @ dev.T\n",
    "    return cov"
   ]
  },
  {
   "cell_type": "code",
   "execution_count": 11,
   "metadata": {},
   "outputs": [
    {
     "name": "stdout",
     "output_type": "stream",
     "text": [
      "0.05038583471142931\n"
     ]
    }
   ],
   "source": [
    "nsample = 10000\n",
    "ew_cov = cal_ewcov(np.matrix(returns), 0.94)[0, 0]\n",
    "sim_rets_ewnorm = np.random.normal(0, np.sqrt(ew_cov), nsample)\n",
    "\n",
    "var_ewnorm = VaR(sim_rets_ewnorm, 0)\n",
    "print(var_ewnorm)"
   ]
  },
  {
   "cell_type": "code",
   "execution_count": 12,
   "metadata": {},
   "outputs": [
    {
     "name": "stdout",
     "output_type": "stream",
     "text": [
      "0.027005334781338024\n"
     ]
    }
   ],
   "source": [
    "df, loc, scale = stats.t.fit(returns)\n",
    "sim_rets_t = stats.t(df=df, loc = loc, scale=scale).rvs(nsample)\n",
    "\n",
    "var_t = VaR(sim_rets_t, 0)\n",
    "print(var_t)"
   ]
  },
  {
   "cell_type": "code",
   "execution_count": 13,
   "metadata": {},
   "outputs": [
    {
     "name": "stdout",
     "output_type": "stream",
     "text": [
      "VaR - Historical = 2.07%\n",
      "VaR - Normal = 3.40%\n",
      "VaR - EW Normal = 5.04%\n",
      "VaR - T = 2.70%\n"
     ]
    }
   ],
   "source": [
    "print(f'VaR - Historical = {var_hist*100:.2f}%')\n",
    "print(f'VaR - Normal = {var_norm*100:.2f}%')\n",
    "print(f'VaR - EW Normal = {var_ewnorm*100:.2f}%')\n",
    "print(f'VaR - T = {var_t*100:.2f}%')"
   ]
  },
  {
   "cell_type": "code",
   "execution_count": 14,
   "metadata": {},
   "outputs": [
    {
     "name": "stderr",
     "output_type": "stream",
     "text": [
      "/Users/hongrendemac/opt/anaconda3/lib/python3.8/site-packages/seaborn/distributions.py:2551: FutureWarning: `distplot` is a deprecated function and will be removed in a future version. Please adapt your code to use either `displot` (a figure-level function with similar flexibility) or `kdeplot` (an axes-level function for kernel density plots).\n",
      "  warnings.warn(msg, FutureWarning)\n",
      "/Users/hongrendemac/opt/anaconda3/lib/python3.8/site-packages/seaborn/distributions.py:2551: FutureWarning: `distplot` is a deprecated function and will be removed in a future version. Please adapt your code to use either `displot` (a figure-level function with similar flexibility) or `kdeplot` (an axes-level function for kernel density plots).\n",
      "  warnings.warn(msg, FutureWarning)\n",
      "/Users/hongrendemac/opt/anaconda3/lib/python3.8/site-packages/seaborn/distributions.py:2551: FutureWarning: `distplot` is a deprecated function and will be removed in a future version. Please adapt your code to use either `displot` (a figure-level function with similar flexibility) or `kdeplot` (an axes-level function for kernel density plots).\n",
      "  warnings.warn(msg, FutureWarning)\n",
      "/Users/hongrendemac/opt/anaconda3/lib/python3.8/site-packages/seaborn/distributions.py:2551: FutureWarning: `distplot` is a deprecated function and will be removed in a future version. Please adapt your code to use either `displot` (a figure-level function with similar flexibility) or `kdeplot` (an axes-level function for kernel density plots).\n",
      "  warnings.warn(msg, FutureWarning)\n",
      "/Users/hongrendemac/opt/anaconda3/lib/python3.8/site-packages/seaborn/distributions.py:2551: FutureWarning: `distplot` is a deprecated function and will be removed in a future version. Please adapt your code to use either `displot` (a figure-level function with similar flexibility) or `kdeplot` (an axes-level function for kernel density plots).\n",
      "  warnings.warn(msg, FutureWarning)\n",
      "/Users/hongrendemac/opt/anaconda3/lib/python3.8/site-packages/seaborn/distributions.py:2551: FutureWarning: `distplot` is a deprecated function and will be removed in a future version. Please adapt your code to use either `displot` (a figure-level function with similar flexibility) or `kdeplot` (an axes-level function for kernel density plots).\n",
      "  warnings.warn(msg, FutureWarning)\n"
     ]
    },
    {
     "data": {
      "text/plain": [
       "Text(0.5, 1.0, 'Comparison with Future Data')"
      ]
     },
     "execution_count": 14,
     "metadata": {},
     "output_type": "execute_result"
    },
    {
     "data": {
      "image/png": "[encoded data removed]",
      "text/plain": [
       "<Figure size 1152x432 with 2 Axes>"
      ]
     },
     "metadata": {},
     "output_type": "display_data"
    }
   ],
   "source": [
    "fig, axes = plt.subplots(1, 2,  figsize=(16,6))\n",
    "\n",
    "# comparison with historical data\n",
    "ax = axes[0]\n",
    "sns.histplot(returns, stat='density', ax=ax, label='Historical', color='slategrey', alpha=0.5)\n",
    "sns.distplot(sim_rets_norm, ax=ax, hist=False, label='Normal')\n",
    "sns.distplot(sim_rets_ewnorm, ax=ax, hist=False, label='EW Normal')\n",
    "sns.distplot(sim_rets_t, ax=ax, hist=False, label='T')\n",
    "ax.legend()\n",
    "ax.set_xlabel(\"Return\")\n",
    "ax.set_title(\"Comparison with Historical Data\")\n",
    "\n",
    "\n",
    "# comparison with future data\n",
    "# load intel price data from Jan 15 to Jan 31 \n",
    "future_prices = yf.Ticker(\"INTC\").history(start=\"2022-01-14\", period=\"max\")\n",
    "future_returns = cal_return(future_prices.Close, method = 'Arithmetic')\n",
    "future_returns -= np.mean(future_returns)\n",
    "\n",
    "ax = axes[1]\n",
    "sns.histplot(future_returns, stat='density', ax=ax, label='Future', color='slategrey', alpha=0.5)\n",
    "sns.distplot(sim_rets_norm, ax=ax, hist=False, label='Normal')\n",
    "sns.distplot(sim_rets_ewnorm, ax=ax, hist=False, label='EW Normal')\n",
    "sns.distplot(sim_rets_t, ax=ax, hist=False, label='T')\n",
    "ax.legend()\n",
    "ax.set_xlabel(\"Return\")\n",
    "ax.set_title(\"Comparison with Future Data\")"
   ]
  },
  {
   "cell_type": "code",
   "execution_count": null,
   "metadata": {},
   "outputs": [],
   "source": []
  }
 ],
 "metadata": {
  "kernelspec": {
   "display_name": "Python 3",
   "language": "python",
   "name": "python3"
  },
  "language_info": {
   "codemirror_mode": {
    "name": "ipython",
    "version": 3
   },
   "file_extension": ".py",
   "mimetype": "text/x-python",
   "name": "python",
   "nbconvert_exporter": "python",
   "pygments_lexer": "ipython3",
   "version": "3.8.5"
  }
 },
 "nbformat": 4,
 "nbformat_minor": 4
}
