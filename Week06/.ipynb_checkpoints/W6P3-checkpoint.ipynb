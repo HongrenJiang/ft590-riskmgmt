{
 "cells": [
  {
   "cell_type": "code",
   "execution_count": 1,
   "metadata": {},
   "outputs": [],
   "source": [
    "from numpy import log, sqrt, pi, exp\n",
    "from scipy.stats import norm\n",
    "from datetime import datetime, date\n",
    "import numpy as np\n",
    "import pandas as pd\n",
    "from pandas import DataFrame\n",
    "import matplotlib.pyplot as plt"
   ]
  },
  {
   "cell_type": "code",
   "execution_count": 2,
   "metadata": {
    "pycharm": {
     "name": "#%%\n"
    }
   },
   "outputs": [],
   "source": [
    "def d1(S,K,T,b,r,sigma):\n",
    "    return(log(S/K)+(b+sigma**2/2.)*T)/(sigma*sqrt(T))\n",
    "\n",
    "def d2(S,K,T,b,r,sigma):\n",
    "    return d1(S,K,T,b,r,sigma)-sigma*sqrt(T)\n",
    "\n",
    "def bs_call(S,K,T,b,r,sigma):\n",
    "    return S*exp((b-r)*T)*norm.cdf(d1(S,K,T,b,r,sigma))-K*exp(-r*T)*norm.cdf(d2(S,K,T,b,r,sigma))\n",
    "\n",
    "def bs_put(S,K,T,b,r,sigma):\n",
    "    return K*exp(-r*T)*norm.cdf(-d2(S,K,T,b,r,sigma))-S*exp((b-r)*T)*norm.cdf(-d1(S,K, T, b, r, sigma))"
   ]
  },
  {
   "cell_type": "code",
   "execution_count": 3,
   "metadata": {
    "pycharm": {
     "name": "#%%\n"
    }
   },
   "outputs": [],
   "source": [
    "def dichotomy(left,right,error):\n",
    "    middle = (left+right)/2\n",
    "    while abs(func(middle)) > error:\n",
    "        middle = (left+right)/2\n",
    "        if func(left) * func(middle) < 0:\n",
    "            right = middle\n",
    "        else:\n",
    "            left = middle\n",
    "    return middle"
   ]
  },
  {
   "cell_type": "code",
   "execution_count": 4,
   "metadata": {
    "pycharm": {
     "name": "#%%\n"
    }
   },
   "outputs": [
    {
     "data": {
      "text/html": [
       "<div>\n",
       "<style scoped>\n",
       "    .dataframe tbody tr th:only-of-type {\n",
       "        vertical-align: middle;\n",
       "    }\n",
       "\n",
       "    .dataframe tbody tr th {\n",
       "        vertical-align: top;\n",
       "    }\n",
       "\n",
       "    .dataframe thead th {\n",
       "        text-align: right;\n",
       "    }\n",
       "</style>\n",
       "<table border=\"1\" class=\"dataframe\">\n",
       "  <thead>\n",
       "    <tr style=\"text-align: right;\">\n",
       "      <th></th>\n",
       "      <th>Portfolio</th>\n",
       "      <th>Type</th>\n",
       "      <th>Underlying</th>\n",
       "      <th>Holding</th>\n",
       "      <th>OptionType</th>\n",
       "      <th>ExpirationDate</th>\n",
       "      <th>Strike</th>\n",
       "      <th>CurrentPrice</th>\n",
       "      <th>Implied Volatility</th>\n",
       "    </tr>\n",
       "  </thead>\n",
       "  <tbody>\n",
       "    <tr>\n",
       "      <th>0</th>\n",
       "      <td>Straddle</td>\n",
       "      <td>Option</td>\n",
       "      <td>AAPL</td>\n",
       "      <td>1</td>\n",
       "      <td>Call</td>\n",
       "      <td>3/18/2022</td>\n",
       "      <td>165.0</td>\n",
       "      <td>4.50</td>\n",
       "      <td>0.288339</td>\n",
       "    </tr>\n",
       "    <tr>\n",
       "      <th>1</th>\n",
       "      <td>Straddle</td>\n",
       "      <td>Option</td>\n",
       "      <td>AAPL</td>\n",
       "      <td>1</td>\n",
       "      <td>Put</td>\n",
       "      <td>3/18/2022</td>\n",
       "      <td>165.0</td>\n",
       "      <td>4.40</td>\n",
       "      <td>0.275677</td>\n",
       "    </tr>\n",
       "    <tr>\n",
       "      <th>2</th>\n",
       "      <td>SynLong</td>\n",
       "      <td>Option</td>\n",
       "      <td>AAPL</td>\n",
       "      <td>1</td>\n",
       "      <td>Call</td>\n",
       "      <td>3/18/2022</td>\n",
       "      <td>165.0</td>\n",
       "      <td>4.50</td>\n",
       "      <td>0.288339</td>\n",
       "    </tr>\n",
       "    <tr>\n",
       "      <th>3</th>\n",
       "      <td>SynLong</td>\n",
       "      <td>Option</td>\n",
       "      <td>AAPL</td>\n",
       "      <td>-1</td>\n",
       "      <td>Put</td>\n",
       "      <td>3/18/2022</td>\n",
       "      <td>165.0</td>\n",
       "      <td>4.40</td>\n",
       "      <td>0.275677</td>\n",
       "    </tr>\n",
       "    <tr>\n",
       "      <th>4</th>\n",
       "      <td>CallSpread</td>\n",
       "      <td>Option</td>\n",
       "      <td>AAPL</td>\n",
       "      <td>1</td>\n",
       "      <td>Call</td>\n",
       "      <td>3/18/2022</td>\n",
       "      <td>165.0</td>\n",
       "      <td>4.50</td>\n",
       "      <td>0.288339</td>\n",
       "    </tr>\n",
       "    <tr>\n",
       "      <th>5</th>\n",
       "      <td>CallSpread</td>\n",
       "      <td>Option</td>\n",
       "      <td>AAPL</td>\n",
       "      <td>-1</td>\n",
       "      <td>Call</td>\n",
       "      <td>3/18/2022</td>\n",
       "      <td>175.0</td>\n",
       "      <td>0.72</td>\n",
       "      <td>0.235220</td>\n",
       "    </tr>\n",
       "    <tr>\n",
       "      <th>6</th>\n",
       "      <td>PutSpread</td>\n",
       "      <td>Option</td>\n",
       "      <td>AAPL</td>\n",
       "      <td>1</td>\n",
       "      <td>Put</td>\n",
       "      <td>3/18/2022</td>\n",
       "      <td>165.0</td>\n",
       "      <td>4.40</td>\n",
       "      <td>0.275677</td>\n",
       "    </tr>\n",
       "    <tr>\n",
       "      <th>7</th>\n",
       "      <td>PutSpread</td>\n",
       "      <td>Option</td>\n",
       "      <td>AAPL</td>\n",
       "      <td>-1</td>\n",
       "      <td>Put</td>\n",
       "      <td>3/18/2022</td>\n",
       "      <td>155.0</td>\n",
       "      <td>1.60</td>\n",
       "      <td>0.332789</td>\n",
       "    </tr>\n",
       "    <tr>\n",
       "      <th>8</th>\n",
       "      <td>Stock</td>\n",
       "      <td>Stock</td>\n",
       "      <td>AAPL</td>\n",
       "      <td>1</td>\n",
       "      <td>NaN</td>\n",
       "      <td>NaN</td>\n",
       "      <td>NaN</td>\n",
       "      <td>164.85</td>\n",
       "      <td>0.000000</td>\n",
       "    </tr>\n",
       "    <tr>\n",
       "      <th>9</th>\n",
       "      <td>Call</td>\n",
       "      <td>Option</td>\n",
       "      <td>AAPL</td>\n",
       "      <td>1</td>\n",
       "      <td>Call</td>\n",
       "      <td>3/18/2022</td>\n",
       "      <td>165.0</td>\n",
       "      <td>4.50</td>\n",
       "      <td>0.288339</td>\n",
       "    </tr>\n",
       "    <tr>\n",
       "      <th>10</th>\n",
       "      <td>Put</td>\n",
       "      <td>Option</td>\n",
       "      <td>AAPL</td>\n",
       "      <td>1</td>\n",
       "      <td>Put</td>\n",
       "      <td>3/18/2022</td>\n",
       "      <td>165.0</td>\n",
       "      <td>4.40</td>\n",
       "      <td>0.275677</td>\n",
       "    </tr>\n",
       "    <tr>\n",
       "      <th>11</th>\n",
       "      <td>CoveredCall</td>\n",
       "      <td>Stock</td>\n",
       "      <td>AAPL</td>\n",
       "      <td>1</td>\n",
       "      <td>NaN</td>\n",
       "      <td>NaN</td>\n",
       "      <td>NaN</td>\n",
       "      <td>164.85</td>\n",
       "      <td>0.000000</td>\n",
       "    </tr>\n",
       "    <tr>\n",
       "      <th>12</th>\n",
       "      <td>CoveredCall</td>\n",
       "      <td>Option</td>\n",
       "      <td>AAPL</td>\n",
       "      <td>-1</td>\n",
       "      <td>Call</td>\n",
       "      <td>3/18/2022</td>\n",
       "      <td>165.0</td>\n",
       "      <td>4.50</td>\n",
       "      <td>0.288339</td>\n",
       "    </tr>\n",
       "    <tr>\n",
       "      <th>13</th>\n",
       "      <td>ProtectedPut</td>\n",
       "      <td>Stock</td>\n",
       "      <td>AAPL</td>\n",
       "      <td>1</td>\n",
       "      <td>NaN</td>\n",
       "      <td>NaN</td>\n",
       "      <td>NaN</td>\n",
       "      <td>164.85</td>\n",
       "      <td>0.000000</td>\n",
       "    </tr>\n",
       "    <tr>\n",
       "      <th>14</th>\n",
       "      <td>ProtectedPut</td>\n",
       "      <td>Option</td>\n",
       "      <td>AAPL</td>\n",
       "      <td>1</td>\n",
       "      <td>Put</td>\n",
       "      <td>3/18/2022</td>\n",
       "      <td>165.0</td>\n",
       "      <td>4.40</td>\n",
       "      <td>0.275677</td>\n",
       "    </tr>\n",
       "  </tbody>\n",
       "</table>\n",
       "</div>"
      ],
      "text/plain": [
       "       Portfolio    Type Underlying  Holding OptionType ExpirationDate  \\\n",
       "0       Straddle  Option       AAPL        1       Call      3/18/2022   \n",
       "1       Straddle  Option       AAPL        1        Put      3/18/2022   \n",
       "2        SynLong  Option       AAPL        1       Call      3/18/2022   \n",
       "3        SynLong  Option       AAPL       -1        Put      3/18/2022   \n",
       "4     CallSpread  Option       AAPL        1       Call      3/18/2022   \n",
       "5     CallSpread  Option       AAPL       -1       Call      3/18/2022   \n",
       "6      PutSpread  Option       AAPL        1        Put      3/18/2022   \n",
       "7      PutSpread  Option       AAPL       -1        Put      3/18/2022   \n",
       "8          Stock   Stock       AAPL        1        NaN            NaN   \n",
       "9          Call   Option       AAPL        1       Call      3/18/2022   \n",
       "10          Put   Option       AAPL        1        Put      3/18/2022   \n",
       "11   CoveredCall   Stock       AAPL        1        NaN            NaN   \n",
       "12   CoveredCall  Option       AAPL       -1       Call      3/18/2022   \n",
       "13  ProtectedPut   Stock       AAPL        1        NaN            NaN   \n",
       "14  ProtectedPut  Option       AAPL        1        Put      3/18/2022   \n",
       "\n",
       "    Strike  CurrentPrice  Implied Volatility  \n",
       "0    165.0          4.50            0.288339  \n",
       "1    165.0          4.40            0.275677  \n",
       "2    165.0          4.50            0.288339  \n",
       "3    165.0          4.40            0.275677  \n",
       "4    165.0          4.50            0.288339  \n",
       "5    175.0          0.72            0.235220  \n",
       "6    165.0          4.40            0.275677  \n",
       "7    155.0          1.60            0.332789  \n",
       "8      NaN        164.85            0.000000  \n",
       "9    165.0          4.50            0.288339  \n",
       "10   165.0          4.40            0.275677  \n",
       "11     NaN        164.85            0.000000  \n",
       "12   165.0          4.50            0.288339  \n",
       "13     NaN        164.85            0.000000  \n",
       "14   165.0          4.40            0.275677  "
      ]
     },
     "execution_count": 4,
     "metadata": {},
     "output_type": "execute_result"
    }
   ],
   "source": [
    "df = pd.read_csv('problem3.csv')\n",
    "S = 164.85\n",
    "T = 21/365\n",
    "b = 0.0053\n",
    "r = 0.0025\n",
    "df['Implied Volatility'] = 0\n",
    "for i in range(df.shape[0]):\n",
    "    P = df['CurrentPrice'][i]\n",
    "    K = df['Strike'][i]\n",
    "    if df['OptionType'][i] == 'Call':\n",
    "        def func(sigma):\n",
    "            return P - bs_call(S,K,T,b,r,sigma)\n",
    "        df.loc[i,'Implied Volatility'] = dichotomy(0.01,1,0.00001)\n",
    "    elif df['OptionType'][i] == 'Put':\n",
    "        def func(sigma):\n",
    "            return P - bs_put(S,K,T,b,r,sigma)\n",
    "        df.loc[i,'Implied Volatility'] = dichotomy(0.01,1,0.00001)\n",
    "df"
   ]
  },
  {
   "cell_type": "code",
   "execution_count": 5,
   "metadata": {
    "pycharm": {
     "name": "#%%\n"
    }
   },
   "outputs": [],
   "source": [
    "S = np.linspace(100,200,101)"
   ]
  },
  {
   "cell_type": "code",
   "execution_count": 6,
   "metadata": {
    "pycharm": {
     "name": "#%%\n"
    }
   },
   "outputs": [
    {
     "data": {
      "text/plain": [
       "Text(0, 0.5, 'Portfolio Value')"
      ]
     },
     "execution_count": 6,
     "metadata": {},
     "output_type": "execute_result"
    },
    {
     "data": {
      "image/png": "[encoded data removed]",
      "text/plain": [
       "<Figure size 432x288 with 1 Axes>"
      ]
     },
     "metadata": {
      "needs_background": "light"
     },
     "output_type": "display_data"
    }
   ],
   "source": [
    "Straddle = bs_call(S,165,T,b,r,df['Implied Volatility'][0]) \\\n",
    "                  + bs_put(S,165,T,b,r,df['Implied Volatility'][1])\n",
    "plt.plot(S,Straddle)\n",
    "plt.title('Straddle')\n",
    "plt.xlabel('Underlying Price')\n",
    "plt.ylabel('Portfolio Value')"
   ]
  },
  {
   "cell_type": "code",
   "execution_count": 7,
   "metadata": {
    "pycharm": {
     "name": "#%%\n"
    }
   },
   "outputs": [
    {
     "data": {
      "text/plain": [
       "Text(0, 0.5, 'Portfolio Value')"
      ]
     },
     "execution_count": 7,
     "metadata": {},
     "output_type": "execute_result"
    },
    {
     "data": {
      "image/png": "[encoded data removed]",
      "text/plain": [
       "<Figure size 432x288 with 1 Axes>"
      ]
     },
     "metadata": {
      "needs_background": "light"
     },
     "output_type": "display_data"
    }
   ],
   "source": [
    "SynLong = bs_call(S,165,T,b,r,df['Implied Volatility'][2]) \\\n",
    "                  - bs_put(S,165,T,b,r,df['Implied Volatility'][3])\n",
    "plt.plot(S,SynLong)\n",
    "plt.title('SynLong')\n",
    "plt.xlabel('Underlying Price')\n",
    "plt.ylabel('Portfolio Value')"
   ]
  },
  {
   "cell_type": "code",
   "execution_count": 8,
   "metadata": {
    "pycharm": {
     "name": "#%%\n"
    }
   },
   "outputs": [
    {
     "data": {
      "text/plain": [
       "Text(0, 0.5, 'Portfolio Value')"
      ]
     },
     "execution_count": 8,
     "metadata": {},
     "output_type": "execute_result"
    },
    {
     "data": {
      "image/png": "[encoded data removed]",
      "text/plain": [
       "<Figure size 432x288 with 1 Axes>"
      ]
     },
     "metadata": {
      "needs_background": "light"
     },
     "output_type": "display_data"
    }
   ],
   "source": [
    "CallSpread = bs_call(S,165,T,b,r,df['Implied Volatility'][4]) \\\n",
    "                  - bs_call(S,175,T,b,r,df['Implied Volatility'][5])\n",
    "plt.plot(S,CallSpread)\n",
    "plt.title('CallSpread')\n",
    "plt.xlabel('Underlying Price')\n",
    "plt.ylabel('Portfolio Value')"
   ]
  },
  {
   "cell_type": "code",
   "execution_count": 9,
   "metadata": {
    "pycharm": {
     "name": "#%%\n"
    }
   },
   "outputs": [
    {
     "data": {
      "text/plain": [
       "Text(0, 0.5, 'Portfolio Value')"
      ]
     },
     "execution_count": 9,
     "metadata": {},
     "output_type": "execute_result"
    },
    {
     "data": {
      "image/png": "[encoded data removed]",
      "text/plain": [
       "<Figure size 432x288 with 1 Axes>"
      ]
     },
     "metadata": {
      "needs_background": "light"
     },
     "output_type": "display_data"
    }
   ],
   "source": [
    "\n",
    "PutSpread = bs_put(S,165,T,b,r,df['Implied Volatility'][6]) \\\n",
    "                  - bs_put(S,155,T,b,r,df['Implied Volatility'][7])\n",
    "plt.plot(S,PutSpread)\n",
    "plt.title('PutSpread')\n",
    "plt.xlabel('Underlying Price')\n",
    "plt.ylabel('Portfolio Value')"
   ]
  },
  {
   "cell_type": "code",
   "execution_count": 10,
   "metadata": {
    "pycharm": {
     "name": "#%%\n"
    }
   },
   "outputs": [
    {
     "data": {
      "text/plain": [
       "Text(0, 0.5, 'Portfolio Value')"
      ]
     },
     "execution_count": 10,
     "metadata": {},
     "output_type": "execute_result"
    },
    {
     "data": {
      "image/png": "[encoded data removed]",
      "text/plain": [
       "<Figure size 432x288 with 1 Axes>"
      ]
     },
     "metadata": {
      "needs_background": "light"
     },
     "output_type": "display_data"
    }
   ],
   "source": [
    "Stock = S\n",
    "plt.plot(S,Stock)\n",
    "plt.title('Stock')\n",
    "plt.xlabel('Underlying Price')\n",
    "plt.ylabel('Portfolio Value')"
   ]
  },
  {
   "cell_type": "code",
   "execution_count": 11,
   "metadata": {
    "pycharm": {
     "name": "#%%\n"
    }
   },
   "outputs": [
    {
     "data": {
      "text/plain": [
       "Text(0, 0.5, 'Portfolio Value')"
      ]
     },
     "execution_count": 11,
     "metadata": {},
     "output_type": "execute_result"
    },
    {
     "data": {
      "image/png": "[encoded data removed]",
      "text/plain": [
       "<Figure size 432x288 with 1 Axes>"
      ]
     },
     "metadata": {
      "needs_background": "light"
     },
     "output_type": "display_data"
    }
   ],
   "source": [
    "Call = bs_call(S,165,T,b,r,df['Implied Volatility'][9])\n",
    "plt.plot(S,Call)\n",
    "plt.title('Call')\n",
    "plt.xlabel('Underlying Price')\n",
    "plt.ylabel('Portfolio Value')"
   ]
  },
  {
   "cell_type": "code",
   "execution_count": 12,
   "metadata": {
    "pycharm": {
     "name": "#%%\n"
    }
   },
   "outputs": [
    {
     "data": {
      "text/plain": [
       "Text(0, 0.5, 'Portfolio Value')"
      ]
     },
     "execution_count": 12,
     "metadata": {},
     "output_type": "execute_result"
    },
    {
     "data": {
      "image/png": "[encoded data removed]",
      "text/plain": [
       "<Figure size 432x288 with 1 Axes>"
      ]
     },
     "metadata": {
      "needs_background": "light"
     },
     "output_type": "display_data"
    }
   ],
   "source": [
    "Put = bs_put(S,165,T,b,r,df['Implied Volatility'][10])\n",
    "plt.plot(S,Put)\n",
    "plt.title('Put')\n",
    "plt.xlabel('Underlying Price')\n",
    "plt.ylabel('Portfolio Value')"
   ]
  },
  {
   "cell_type": "code",
   "execution_count": 13,
   "metadata": {
    "pycharm": {
     "name": "#%%\n"
    }
   },
   "outputs": [
    {
     "data": {
      "text/plain": [
       "Text(0, 0.5, 'Portfolio Value')"
      ]
     },
     "execution_count": 13,
     "metadata": {},
     "output_type": "execute_result"
    },
    {
     "data": {
      "image/png": "[encoded data removed]",
      "text/plain": [
       "<Figure size 432x288 with 1 Axes>"
      ]
     },
     "metadata": {
      "needs_background": "light"
     },
     "output_type": "display_data"
    }
   ],
   "source": [
    "CoveredCall = -bs_call(S,165,T,b,r,df['Implied Volatility'][12]) + S\n",
    "plt.plot(S,CoveredCall)\n",
    "plt.title('CoveredCall')\n",
    "plt.xlabel('Underlying Price')\n",
    "plt.ylabel('Portfolio Value')"
   ]
  },
  {
   "cell_type": "code",
   "execution_count": 14,
   "metadata": {
    "pycharm": {
     "name": "#%%\n"
    }
   },
   "outputs": [
    {
     "data": {
      "text/plain": [
       "Text(0, 0.5, 'Portfolio Value')"
      ]
     },
     "execution_count": 14,
     "metadata": {},
     "output_type": "execute_result"
    },
    {
     "data": {
      "image/png": "[encoded data removed]",
      "text/plain": [
       "<Figure size 432x288 with 1 Axes>"
      ]
     },
     "metadata": {
      "needs_background": "light"
     },
     "output_type": "display_data"
    }
   ],
   "source": [
    "ProtectedPut = bs_put(S,165,T,b,r,df['Implied Volatility'][14]) + S\n",
    "plt.plot(S,ProtectedPut)\n",
    "plt.title('ProtectedPut')\n",
    "plt.xlabel('Underlying Price')\n",
    "plt.ylabel('Portfolio Value')"
   ]
  },
  {
   "cell_type": "code",
   "execution_count": 15,
   "metadata": {
    "pycharm": {
     "name": "#%%\n"
    }
   },
   "outputs": [],
   "source": [
    "from scipy import stats\n",
    "import random"
   ]
  },
  {
   "cell_type": "code",
   "execution_count": 16,
   "metadata": {
    "pycharm": {
     "name": "#%%\n"
    }
   },
   "outputs": [],
   "source": [
    "dfR = pd.read_csv('DailyReturn.csv')\n",
    "AAPL = dfR['AAPL']\n",
    "\n",
    "# normal distribution fitting\n",
    "mean_n, var_n = stats.distributions.norm.fit(AAPL)"
   ]
  },
  {
   "cell_type": "code",
   "execution_count": 17,
   "metadata": {
    "pycharm": {
     "name": "#%%\n"
    }
   },
   "outputs": [],
   "source": [
    "Sfinal = np.empty(100)\n",
    "for times in range(100):\n",
    "    Price = np.empty(11)\n",
    "    Price[0] = 1\n",
    "    for i in range(10):\n",
    "        P(1 + np.random.normal(0, sigma))\n",
    "    Sfinal[times] = Price[10] * 164.85"
   ]
  },
  {
   "cell_type": "code",
   "execution_count": 18,
   "metadata": {
    "pycharm": {
     "name": "#%%\n"
    }
   },
   "outputs": [
    {
     "data": {
      "text/plain": [
       "array([0., 0., 0., 0., 0., 0., 0., 0., 0., 0., 0., 0., 0., 0., 0., 0., 0.,\n",
       "       0., 0., 0., 0., 0., 0., 0., 0., 0., 0., 0., 0., 0., 0., 0., 0., 0.,\n",
       "       0., 0., 0., 0., 0., 0., 0., 0., 0., 0., 0., 0., 0., 0., 0., 0., 0.,\n",
       "       0., 0., 0., 0., 0., 0., 0., 0., 0., 0., 0., 0., 0., 0., 0., 0., 0.,\n",
       "       0., 0., 0., 0., 0., 0., 0., 0., 0., 0., 0., 0., 0., 0., 0., 0., 0.,\n",
       "       0., 0., 0., 0., 0., 0., 0., 0., 0., 0., 0., 0., 0., 0., 0.])"
      ]
     },
     "execution_count": 18,
     "metadata": {},
     "output_type": "execute_result"
    }
   ],
   "source": [
    "Sfinal"
   ]
  },
  {
   "cell_type": "code",
   "execution_count": null,
   "metadata": {
    "pycharm": {
     "name": "#%%\n"
    }
   },
   "outputs": [],
   "source": []
  }
 ],
 "metadata": {
  "kernelspec": {
   "display_name": "PyCharm (ft590-riskmgmt)",
   "language": "python",
   "name": "pycharm-9b872806"
  },
  "language_info": {
   "codemirror_mode": {
    "name": "ipython",
    "version": 3
   },
   "file_extension": ".py",
   "mimetype": "text/x-python",
   "name": "python",
   "nbconvert_exporter": "python",
   "pygments_lexer": "ipython3",
   "version": "3.8.5"
  }
 },
 "nbformat": 4,
 "nbformat_minor": 1
}
