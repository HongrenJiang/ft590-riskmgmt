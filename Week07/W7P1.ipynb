{
 "cells": [
  {
   "cell_type": "markdown",
   "metadata": {},
   "source": [
    "# Greeks"
   ]
  },
  {
   "cell_type": "markdown",
   "metadata": {},
   "source": [
    "## GBSM Method"
   ]
  },
  {
   "cell_type": "code",
   "execution_count": 1,
   "metadata": {},
   "outputs": [],
   "source": [
    "from scipy.stats import norm\n",
    "import numpy as np\n",
    "import matplotlib.pyplot as plt"
   ]
  },
  {
   "cell_type": "code",
   "execution_count": 2,
   "metadata": {},
   "outputs": [],
   "source": [
    "S = 165\n",
    "K = 165\n",
    "T = 21/365\n",
    "b = 0.0053\n",
    "r = 0.0025\n",
    "sigma = np.linspace(0.1,0.8,71)"
   ]
  },
  {
   "cell_type": "code",
   "execution_count": 3,
   "metadata": {},
   "outputs": [],
   "source": [
    "def blackScholes(S, K, T, b, r, sigma, type=\"c\"):\n",
    "    \"Calculate BS price of call/put\"\n",
    "    d1 = (np.log(S/K) + (b + sigma**2/2)*T)/(sigma*np.sqrt(T))\n",
    "    d2 = d1 - sigma*np.sqrt(T)\n",
    "    try:\n",
    "        if type == \"c\":\n",
    "            price = S*np.exp((b-r)*T)*norm.cdf(d1, 0, 1)-K*np.exp(-r*T)*norm.cdf(d2, 0, 1)\n",
    "        elif type == \"p\":\n",
    "            price = K*np.exp(-r*T)*norm.cdf(-d2, 0, 1) - S*np.exp((b-r)*T)*norm.cdf(-d1, 0, 1)\n",
    "        return price\n",
    "    except:\n",
    "        print(\"Please confirm option type, either 'c' for Call or 'p' for Put!\")"
   ]
  },
  {
   "cell_type": "markdown",
   "metadata": {
    "pycharm": {
     "name": "#%% md\n"
    }
   },
   "source": [
    "## Delta"
   ]
  },
  {
   "cell_type": "code",
   "execution_count": 4,
   "metadata": {},
   "outputs": [],
   "source": [
    "\n",
    "def delta_calc(S, K, T, b, r, sigma, type=\"c\"):\n",
    "    \"Calculate delta of call/put\"\n",
    "    d1 = (np.log(S/K) + (b + sigma**2/2)*T)/(sigma*np.sqrt(T))\n",
    "    d2 = d1 - sigma*np.sqrt(T)\n",
    "    try:\n",
    "        if type == \"c\":\n",
    "            delta_calc = norm.cdf(d1, 0, 1)\n",
    "        elif type == \"p\":\n",
    "            delta_calc = -norm.cdf(-d1, 0, 1)\n",
    "        return delta_calc\n",
    "    except:\n",
    "        print(\"Please confirm option type, either 'c' for Call or 'p' for Put!\")"
   ]
  },
  {
   "cell_type": "markdown",
   "source": [
    "\n",
    "## Gamma"
   ],
   "metadata": {
    "collapsed": false
   }
  },
  {
   "cell_type": "code",
   "execution_count": 5,
   "outputs": [],
   "source": [
    "def gamma_calc(S, K, T, b, r, sigma, type=\"c\"):\n",
    "    \"Calculate gamma of a option\"\n",
    "    d1 = (np.log(S/K) + (b + sigma**2/2)*T)/(sigma*np.sqrt(T))\n",
    "    d2 = d1 - sigma*np.sqrt(T)\n",
    "    try:\n",
    "        gamma_calc = norm.pdf(d1, 0, 1) * np.exp((b-r)*T)/(S*sigma*np.sqrt(T))\n",
    "        return gamma_calc\n",
    "    except:\n",
    "        print(\"Please confirm option type, either 'c' for Call or 'p' for Put!\")"
   ],
   "metadata": {
    "collapsed": false,
    "pycharm": {
     "name": "#%%\n"
    }
   }
  },
  {
   "cell_type": "markdown",
   "source": [
    "## Vega"
   ],
   "metadata": {
    "collapsed": false
   }
  },
  {
   "cell_type": "code",
   "execution_count": 6,
   "outputs": [],
   "source": [
    "def vega_calc(S, K, T, b, r, sigma, type=\"c\"):\n",
    "    \"Calculate gamma of a option\"\n",
    "    d1 = (np.log(S/K) + (b + sigma**2/2)*T)/(sigma*np.sqrt(T))\n",
    "    d2 = d1 - sigma*np.sqrt(T)\n",
    "    try:\n",
    "        vega_calc = S*np.exp((b-r)*T)*norm.pdf(d1, 0, 1)*np.sqrt(T)\n",
    "        return vega_calc\n",
    "    except:\n",
    "        print(\"Please confirm option type, either 'c' for Call or 'p' for Put!\")"
   ],
   "metadata": {
    "collapsed": false,
    "pycharm": {
     "name": "#%%\n"
    }
   }
  },
  {
   "cell_type": "markdown",
   "source": [
    "## Theta"
   ],
   "metadata": {
    "collapsed": false
   }
  },
  {
   "cell_type": "code",
   "execution_count": 7,
   "outputs": [],
   "source": [
    "def theta_calc(S, K, T, b, r, sigma, type=\"c\"):\n",
    "    \"Calculate theta of an option\"\n",
    "    d1 = (np.log(S/K) + (r + sigma**2/2)*T)/(sigma*np.sqrt(T))\n",
    "    d2 = d1 - sigma*np.sqrt(T)\n",
    "    try:\n",
    "        if type == \"c\":\n",
    "            theta_calc = -S*np.exp((b-r)*T)*norm.pdf(d1, 0, 1)*sigma/(2*np.sqrt(T)) \\\n",
    "                         - (b-r)*sigma*np.exp((b-r)*T)*norm.cdf(d1, 0, 1) \\\n",
    "                         - r*K*np.exp(-r*T)*norm.cdf(d2, 0, 1)\n",
    "        elif type == \"p\":\n",
    "            theta_calc = -S*norm.pdf(d1, 0, 1)*sigma/(2*np.sqrt(T)) \\\n",
    "                         + (b-r)*sigma*np.exp((b-r)*T)*norm.cdf(-d1, 0, 1) \\\n",
    "                         + r*K*np.exp(-r*T)*norm.cdf(-d2, 0, 1)\n",
    "        return theta_calc/365\n",
    "    except:\n",
    "        print(\"Please confirm option type, either 'c' for Call or 'p' for Put!\")"
   ],
   "metadata": {
    "collapsed": false,
    "pycharm": {
     "name": "#%%\n"
    }
   }
  },
  {
   "cell_type": "markdown",
   "source": [
    "## Rho"
   ],
   "metadata": {
    "collapsed": false
   }
  },
  {
   "cell_type": "code",
   "execution_count": 8,
   "outputs": [],
   "source": [
    "def rho_calc(S, K, T, b, r, sigma, type=\"c\"):\n",
    "    \"Calculate rho of an option\"\n",
    "    d1 = (np.log(S/K) + (r + sigma**2/2)*T)/(sigma*np.sqrt(T))\n",
    "    d2 = d1 - sigma*np.sqrt(T)\n",
    "    try:\n",
    "        if type == \"c\":\n",
    "            rho_calc = K*T*np.exp(-r*T)*norm.cdf(d2, 0, 1)\n",
    "        elif type == \"p\":\n",
    "            rho_calc = -K*T*np.exp(-r*T)*norm.cdf(-d2, 0, 1)\n",
    "        return rho_calc*0.01\n",
    "    except:\n",
    "        print(\"Please confirm option type, either 'c' for Call or 'p' for Put!\")\n",
    "#%\n",
    "\n",
    "def carry_rho_calc(S, K, T, b, r, sigma, type=\"c\"):\n",
    "    \"Calculate rho of an option\"\n",
    "    d1 = (np.log(S/K) + (r + sigma**2/2)*T)/(sigma*np.sqrt(T))\n",
    "    d2 = d1 - sigma*np.sqrt(T)\n",
    "    try:\n",
    "        if type == \"c\":\n",
    "            rho_calc = S*T*np.exp((b-r)*T)*norm.cdf(d1, 0, 1)\n",
    "        elif type == \"p\":\n",
    "            rho_calc = -S*T*np.exp((b-r)*T)*norm.cdf(-d1, 0, 1)\n",
    "        return rho_calc*0.01\n",
    "    except:\n",
    "        print(\"Please confirm option type, either 'c' for Call or 'p' for Put!\")"
   ],
   "metadata": {
    "collapsed": false,
    "pycharm": {
     "name": "#%%\n"
    }
   }
  },
  {
   "cell_type": "code",
   "execution_count": 9,
   "outputs": [],
   "source": [
    "delta_call = delta_calc(S, K, T, b, r, sigma, \"c\")\n",
    "delta_put = delta_calc(S, K, T, b, r, sigma, \"p\")\n",
    "gamma = gamma_calc(S, K, T, b, r, sigma)\n",
    "vega = vega_calc(S, K, T, b, r, sigma)\n",
    "theta_call = theta_calc(S, K, T, b, r, sigma, \"c\")\n",
    "theta_put = theta_calc(S, K, T, b, r, sigma, \"p\")\n",
    "rho_call = rho_calc(S, K, T, b, r, sigma, \"c\")\n",
    "rho_put = rho_calc(S, K, T, b, r, sigma, \"p\")\n",
    "carry_rho_call = carry_rho_calc(S, K, T, b, r, sigma, \"c\")\n",
    "carry_rho_put = carry_rho_calc(S, K, T, b, r, sigma, \"p\")"
   ],
   "metadata": {
    "collapsed": false,
    "pycharm": {
     "name": "#%%\n"
    }
   }
  },
  {
   "cell_type": "markdown",
   "source": [
    "# Numeric Method\n",
    "## Delta"
   ],
   "metadata": {
    "collapsed": false,
    "pycharm": {
     "name": "#%% md\n"
    }
   }
  },
  {
   "cell_type": "code",
   "execution_count": 10,
   "outputs": [],
   "source": [
    "def delta_diff(S, K, T, b, r, sigma, type=\"c\", pricing_function = blackScholes):\n",
    "    dS = .001\n",
    "    if T == 0.0:\n",
    "        if S == K:\n",
    "            return {'c':0.5, 'p':0.5}[type]\n",
    "        elif S > K:\n",
    "            return {'c':1.0, 'p':0.0}[type]\n",
    "        else:\n",
    "            return {'c':0.0, 'p':-1.0}[type]\n",
    "    else:\n",
    "        return (pricing_function(S + dS, K, T, b, r, sigma, type) \\\n",
    "                     - pricing_function(S - dS, K, T, b, r, sigma, type)) / (2 * dS)"
   ],
   "metadata": {
    "collapsed": false,
    "pycharm": {
     "name": "#%%\n"
    }
   }
  },
  {
   "cell_type": "markdown",
   "source": [
    "## Gamma"
   ],
   "metadata": {
    "collapsed": false,
    "pycharm": {
     "name": "#%% md\n"
    }
   }
  },
  {
   "cell_type": "code",
   "execution_count": 11,
   "outputs": [],
   "source": [
    "def gamma_diff(S, K, T, b, r, sigma, type=\"c\", pricing_function = blackScholes):\n",
    "    dS = 0.001\n",
    "    if T == 0:\n",
    "        return float(\"inf\") if S == K else 0.0\n",
    "\n",
    "    return (pricing_function(S + dS, K, T, b, r, sigma, type) - 2. * \\\n",
    "            pricing_function(S, K, T, b, r, sigma, type) + \\\n",
    "            pricing_function(S - dS, K, T, b, r, sigma, type)) / dS ** 2"
   ],
   "metadata": {
    "collapsed": false,
    "pycharm": {
     "name": "#%%\n"
    }
   }
  },
  {
   "cell_type": "markdown",
   "source": [
    "## Vega"
   ],
   "metadata": {
    "collapsed": false
   }
  },
  {
   "cell_type": "code",
   "execution_count": 12,
   "outputs": [],
   "source": [
    "def vega_diff(S, K, T, b, r, sigma, type=\"c\", pricing_function = blackScholes):\n",
    "\n",
    "    return (pricing_function(S, K, T, b, r, sigma + 0.0001, type) - \\\n",
    "            pricing_function(S, K, T, b, r, sigma - 0.0001, type) )/ 0.0002"
   ],
   "metadata": {
    "collapsed": false,
    "pycharm": {
     "name": "#%%\n"
    }
   }
  },
  {
   "cell_type": "markdown",
   "source": [
    "## Theta"
   ],
   "metadata": {
    "collapsed": false
   }
  },
  {
   "cell_type": "code",
   "execution_count": 13,
   "outputs": [],
   "source": [
    "def theta_diff(S, K, T, b, r, sigma, type=\"c\", pricing_function = blackScholes):\n",
    "\n",
    "    if T <= 1. / 365:\n",
    "        return pricing_function(S, K, 0.00001, b, r, sigma, type) - \\\n",
    "               pricing_function(S, K, T, b, r, sigma, type)\n",
    "    else:\n",
    "        return pricing_function(S, K, T - 1./365, b, r, sigma, type) - \\\n",
    "               pricing_function(S, K, T, b, r, sigma, type)"
   ],
   "metadata": {
    "collapsed": false,
    "pycharm": {
     "name": "#%%\n"
    }
   }
  },
  {
   "cell_type": "markdown",
   "source": [
    "## Rho"
   ],
   "metadata": {
    "collapsed": false
   }
  },
  {
   "cell_type": "code",
   "execution_count": 14,
   "outputs": [],
   "source": [
    "def rho_diff(S, K, T, b, r, sigma, type=\"c\", pricing_function = blackScholes):\n",
    "    return (pricing_function(S, K, T, b , r + 0.0001, sigma, type) - \\\n",
    "            pricing_function(S, K, T, b , r - 0.0001, sigma, type)) / 0.02"
   ],
   "metadata": {
    "collapsed": false,
    "pycharm": {
     "name": "#%%\n"
    }
   }
  },
  {
   "cell_type": "code",
   "execution_count": 15,
   "outputs": [],
   "source": [
    "def carry_rho_diff(S, K, T, b, r, sigma, type=\"c\", pricing_function = blackScholes):\n",
    "\n",
    "    return (pricing_function(S, K, T, b + 0.0001, r, sigma, type) - \\\n",
    "            pricing_function(S, K, T, b - 0.0001, r, sigma, type)) / 0.02"
   ],
   "metadata": {
    "collapsed": false,
    "pycharm": {
     "name": "#%%\n"
    }
   }
  },
  {
   "cell_type": "code",
   "execution_count": 16,
   "outputs": [],
   "source": [
    "delta_call_num = delta_diff(S, K, T, b, r, sigma, \"c\")\n",
    "delta_put_num = delta_diff(S, K, T, b, r, sigma, \"p\")\n",
    "gamma_num = gamma_diff(S, K, T, b, r, sigma)\n",
    "vega_num = vega_diff(S, K, T, b, r, sigma, \"c\")\n",
    "theta_call_num = theta_diff(S, K, T, b, r, sigma, \"c\")\n",
    "theta_put_num = theta_diff(S, K, T, b, r, sigma, \"p\")\n",
    "rho_call_num = rho_diff(S, K, T, b, r, sigma, \"c\")\n",
    "rho_put_num = rho_diff(S, K, T, b, r, sigma, \"p\")\n",
    "carry_rho_call_num = carry_rho_diff(S, K, T, b, r, sigma, \"c\")\n",
    "carry_rho_put_num = carry_rho_diff(S, K, T, b, r, sigma, \"p\")"
   ],
   "metadata": {
    "collapsed": false,
    "pycharm": {
     "name": "#%%\n"
    }
   }
  },
  {
   "cell_type": "code",
   "execution_count": 17,
   "outputs": [
    {
     "data": {
      "text/plain": "<matplotlib.legend.Legend at 0x7f7f5e28a3a0>"
     },
     "execution_count": 17,
     "metadata": {},
     "output_type": "execute_result"
    },
    {
     "data": {
      "text/plain": "<Figure size 1080x720 with 5 Axes>",
      "image/png": "[encoded data removed]"
     },
     "metadata": {
      "needs_background": "light"
     },
     "output_type": "display_data"
    }
   ],
   "source": [
    "plt.figure(figsize =(15,10))\n",
    "plt.subplot(2,3,1)\n",
    "plt.plot(sigma, delta_call,'b--')\n",
    "plt.scatter(sigma, delta_call_num, s=20, facecolors = 'none', edgecolors = 'r')\n",
    "plt.plot(sigma, delta_put,'g--')\n",
    "plt.scatter(sigma, delta_put_num, s=20, facecolors = 'none', edgecolors = 'black')\n",
    "plt.title('Delta')\n",
    "plt.xlabel('Implied Volatility')\n",
    "plt.ylabel('Value')\n",
    "plt.legend(['call','put','call_num','put_num'])\n",
    "plt.subplot(2,3,2)\n",
    "plt.plot(sigma, gamma,'b--')\n",
    "plt.scatter(sigma, gamma_num, s=20, facecolors = 'none', edgecolors = 'r')\n",
    "plt.title('Gamma')\n",
    "plt.xlabel('Implied Volatility')\n",
    "plt.ylabel('Value')\n",
    "plt.legend(['GBSM', 'Difference'])\n",
    "plt.subplot(2,3,3)\n",
    "plt.plot(sigma, vega,'b--')\n",
    "plt.scatter(sigma, vega_num, s=20, facecolors = 'none', edgecolors = 'r')\n",
    "plt.title('Vega')\n",
    "plt.xlabel('Implied Volatility')\n",
    "plt.ylabel('Value')\n",
    "plt.legend(['GBSM', 'Difference'])\n",
    "plt.subplot(2,3,4)\n",
    "plt.plot(sigma, theta_call,'b--')\n",
    "plt.scatter(sigma, theta_call_num, s=20, facecolors = 'none', edgecolors = 'r')\n",
    "plt.plot(sigma, theta_put,'g--')\n",
    "plt.scatter(sigma, theta_put_num, s=20, facecolors = 'none', edgecolors = 'black')\n",
    "plt.title('Theta')\n",
    "plt.xlabel('Implied Volatility')\n",
    "plt.ylabel('Value')\n",
    "plt.legend(['call','put','call_num','put_num'])\n",
    "plt.subplot(2,3,5)\n",
    "plt.plot(sigma, carry_rho_call,'b--')\n",
    "plt.scatter(sigma, carry_rho_call_num, s=20, facecolors = 'none', edgecolors = 'r')\n",
    "plt.plot(sigma, carry_rho_put,'g--')\n",
    "plt.scatter(sigma, carry_rho_put_num, s=20, facecolors = 'none', edgecolors = 'black')\n",
    "plt.title('Carry_Rho')\n",
    "plt.xlabel('Implied Volatility')\n",
    "plt.ylabel('Value')\n",
    "plt.legend(['call','put','call_num','put_num'])"
   ],
   "metadata": {
    "collapsed": false,
    "pycharm": {
     "name": "#%%\n"
    }
   }
  },
  {
   "cell_type": "markdown",
   "source": [
    "# Binomial Tree Valuation for American Option"
   ],
   "metadata": {
    "collapsed": false,
    "pycharm": {
     "name": "#%% md\n"
    }
   }
  },
  {
   "cell_type": "code",
   "execution_count": 18,
   "outputs": [],
   "source": [
    "def american_tree(S0, K, T, r, b, N, sigma, opttype='p'):\n",
    "    #precompute values\n",
    "    dt = T/N\n",
    "    u = np.exp(sigma*np.sqrt(dt))\n",
    "    d = np.exp(-sigma*np.sqrt(dt))\n",
    "    q = (np.exp(b*dt) - d)/(u-d)\n",
    "    disc = np.exp(-r*dt)\n",
    "\n",
    "    # initialise stock prices at maturity\n",
    "    S = S0 * d**(np.arange(N,-1,-1)) * u**(np.arange(0,N+1,1))\n",
    "\n",
    "    # option payoff\n",
    "    if opttype == 'p':\n",
    "        C = np.maximum(0, K - S)\n",
    "    else:\n",
    "        C = np.maximum(0, S - K)\n",
    "\n",
    "    # backward recursion through the tree\n",
    "    for i in np.arange(N-1,-1,-1):\n",
    "        S = S0 * d**(np.arange(i,-1,-1)) * u**(np.arange(0,i+1,1))\n",
    "        C[:i+1] = disc * ( q*C[1:i+2] + (1-q)*C[0:i+1] )\n",
    "        C = C[:-1]\n",
    "        if opttype == 'p':\n",
    "            C = np.maximum(C, K - S)\n",
    "        else:\n",
    "            C = np.maximum(C, S - K)\n",
    "\n",
    "    return C[0]"
   ],
   "metadata": {
    "collapsed": false,
    "pycharm": {
     "name": "#%%\n"
    }
   }
  },
  {
   "cell_type": "code",
   "execution_count": 19,
   "outputs": [],
   "source": [
    "def american_tree_div(S0,K,T,r,b,N,sigma,divAmts,divTimes, opttype='c'):\n",
    "    if len(divAmts) == 0 or len(divTimes) == 0:\n",
    "        return american_tree(S0, K, T, r, b, N, sigma, 'c')\n",
    "    elif divTimes[0] > N:\n",
    "        return american_tree(S0, K, T, r, b, N, sigma, 'c')\n",
    "\n",
    "    #precompute values\n",
    "    dt = T/N\n",
    "    u = np.exp(sigma*np.sqrt(dt))\n",
    "    d = np.exp(-sigma*np.sqrt(dt))\n",
    "    q = (np.exp(b*dt) - d)/(u-d)\n",
    "    disc = np.exp(-r*dt)\n",
    "    if opttype == 'c':\n",
    "        z = 1.0\n",
    "    elif opttype == 'p':\n",
    "        z = -1.0\n",
    "\n",
    "    nNodeFunc = lambda n: int((n+1)*(n+2)/2)\n",
    "    idxFunc = lambda i, j: nNodeFunc(j-1)+i+1\n",
    "    nDiv = divTimes.size\n",
    "    nNodes = nNodeFunc(int(divTimes[0]))\n",
    "\n",
    "    optionValues = np.zeros(nNodes)\n",
    "\n",
    "    for j in np.arange(divTimes[0],-1,-1):\n",
    "        for i in np.arange(j,-1,-1):\n",
    "            idx = idxFunc(i,j)\n",
    "            price = S0 * u ** i * d ** (j-1)\n",
    "            payoff = z * (price - K)\n",
    "\n",
    "            if j < divTimes[0]:\n",
    "                ## !!! np.max([a,b]) np.maximum(a,b)\n",
    "                optionValues[idx-1] = np.maximum(0, payoff)\n",
    "                optionValues[idx-1] = np.maximum(optionValues[idx-1],disc*(q*optionValues[idxFunc(i+1,j+1)-1] + \\\n",
    "                                                                    (1-q)*optionValues[idxFunc(i,j+1)-1]))\n",
    "            else:\n",
    "                #american_tree_div(S0,K,T,r,b,N,sigma,divAmts,divTimes, opttype='c')\n",
    "                valNoEx = american_tree_div(price-divAmts[0], K, T-divTimes[0]*dt, r, b, N - divTimes[0],sigma,\n",
    "                                            divAmts[1:nDiv-1],divTimes[1:nDiv-1] - divTimes[0],'c')\n",
    "                valEx = np.maximum(0, payoff)\n",
    "                optionValues[idx-1] = np.maximum(valNoEx, valEx)\n",
    "\n",
    "    return optionValues[0]"
   ],
   "metadata": {
    "collapsed": false,
    "pycharm": {
     "name": "#%%\n"
    }
   }
  },
  {
   "cell_type": "code",
   "execution_count": 20,
   "outputs": [
    {
     "data": {
      "text/plain": "10.392236209067239"
     },
     "execution_count": 20,
     "metadata": {},
     "output_type": "execute_result"
    }
   ],
   "source": [
    "Amts = np.array([1.0,1.0])\n",
    "Times = np.array([1,2])\n",
    "#american_tree_div(S0,K,T,r,b,N,sigma,divAmts,divTimes, opttype='c')\n",
    "american_tree_div(100,100,.5,.08,.08,100,.3,Amts,Times,\"c\")"
   ],
   "metadata": {
    "collapsed": false,
    "pycharm": {
     "name": "#%%\n"
    }
   }
  },
  {
   "cell_type": "code",
   "execution_count": 27,
   "outputs": [
    {
     "name": "stdout",
     "output_type": "stream",
     "text": [
      "call option:1.7363716720175546\n",
      "put option:12.484567965981746\n"
     ]
    }
   ],
   "source": [
    "Amts = np.array([0.88])\n",
    "Times = np.array([17])\n",
    "value_call = american_tree_div(S,K,T,r,r,21,.2,Amts,Times,\"c\")\n",
    "value_put = american_tree_div(S,K,T,r,r,21,.2,Amts,Times,\"p\")\n",
    "print(\"call option:\" + str(value_call))\n",
    "print(\"put option:\" + str(value_put))"
   ],
   "metadata": {
    "collapsed": false,
    "pycharm": {
     "name": "#%%\n"
    }
   }
  },
  {
   "cell_type": "code",
   "execution_count": 28,
   "outputs": [],
   "source": [
    "Sensitivity_call = (american_tree_div(S,K,T,r,r,21,.2,np.array([0.89]),Times,\"c\") - \\\n",
    "                   american_tree_div(S,K,T,r,r,21,.2,np.array([0.87]),Times,\"c\"))/0.02\n",
    "Sensitivity_put = (american_tree_div(S,K,T,r,r,21,.2,np.array([0.89]),Times,\"p\") - \\\n",
    "                   american_tree_div(S,K,T,r,r,21,.2,np.array([0.87]),Times,\"p\"))/0.02"
   ],
   "metadata": {
    "collapsed": false,
    "pycharm": {
     "name": "#%%\n"
    }
   }
  }
 ],
 "metadata": {
  "kernelspec": {
   "name": "pycharm-9b872806",
   "language": "python",
   "display_name": "PyCharm (ft590-riskmgmt)"
  },
  "language_info": {
   "codemirror_mode": {
    "name": "ipython",
    "version": 3
   },
   "file_extension": ".py",
   "mimetype": "text/x-python",
   "name": "python",
   "nbconvert_exporter": "python",
   "pygments_lexer": "ipython3",
   "version": "3.8.5"
  }
 },
 "nbformat": 4,
 "nbformat_minor": 4
}