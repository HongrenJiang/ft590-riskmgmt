{
 "cells": [
  {
   "cell_type": "code",
   "execution_count": 1,
   "metadata": {
    "collapsed": true
   },
   "outputs": [],
   "source": [
    "from scipy.stats import norm\n",
    "from scipy import stats\n",
    "import numpy as np\n",
    "import pandas as pd"
   ]
  },
  {
   "cell_type": "code",
   "execution_count": 2,
   "metadata": {
    "pycharm": {
     "name": "#%%\n"
    }
   },
   "outputs": [],
   "source": [
    "def american_tree(S0, K, T, r, b, N, sigma, opttype='p'):\n",
    "    #precompute values\n",
    "    dt = T/N\n",
    "    u = np.exp(sigma*np.sqrt(dt))\n",
    "    d = np.exp(-sigma*np.sqrt(dt))\n",
    "    q = (np.exp(b*dt) - d)/(u-d)\n",
    "    disc = np.exp(-r*dt)\n",
    "\n",
    "    # initialise stock prices at maturity\n",
    "    S = S0 * d**(np.arange(N,-1,-1)) * u**(np.arange(0,N+1,1))\n",
    "\n",
    "    # option payoff\n",
    "    if opttype == 'p':\n",
    "        C = np.maximum(0, K - S)\n",
    "    else:\n",
    "        C = np.maximum(0, S - K)\n",
    "\n",
    "    # backward recursion through the tree\n",
    "    for i in np.arange(N-1,-1,-1):\n",
    "        S = S0 * d**(np.arange(i,-1,-1)) * u**(np.arange(0,i+1,1))\n",
    "        C[:i+1] = disc * ( q*C[1:i+2] + (1-q)*C[0:i+1] )\n",
    "        C = C[:-1]\n",
    "        if opttype == 'p':\n",
    "            C = np.maximum(C, K - S)\n",
    "        else:\n",
    "            C = np.maximum(C, S - K)\n",
    "\n",
    "    return C[0]\n",
    "\n",
    "def american_tree_div(S0,K,T,r,b,N,sigma,divAmts,divTimes, opttype='c'):\n",
    "    if len(divAmts) == 0 or len(divTimes) == 0:\n",
    "        return american_tree(S0, K, T, r, b, N, sigma, 'c')\n",
    "    elif divTimes[0] > N:\n",
    "        return american_tree(S0, K, T, r, b, N, sigma, 'c')\n",
    "\n",
    "    #precompute values\n",
    "    dt = T/N\n",
    "    u = np.exp(sigma*np.sqrt(dt))\n",
    "    d = np.exp(-sigma*np.sqrt(dt))\n",
    "    q = (np.exp(b*dt) - d)/(u-d)\n",
    "    disc = np.exp(-r*dt)\n",
    "    if opttype == 'c':\n",
    "        z = 1.0\n",
    "    elif opttype == 'p':\n",
    "        z = -1.0\n",
    "\n",
    "    nNodeFunc = lambda n: int((n+1)*(n+2)/2)\n",
    "    idxFunc = lambda i, j: nNodeFunc(j-1)+i+1\n",
    "    nDiv = divTimes.size\n",
    "    nNodes = nNodeFunc(int(divTimes[0]))\n",
    "\n",
    "    optionValues = np.zeros(nNodes)\n",
    "\n",
    "    for j in np.arange(divTimes[0],-1,-1):\n",
    "        for i in np.arange(j,-1,-1):\n",
    "            idx = idxFunc(i,j)\n",
    "            price = S0 * u ** i * d ** (j-1)\n",
    "            payoff = z * (price - K)\n",
    "\n",
    "            if j < divTimes[0]:\n",
    "                ## !!! np.max([a,b]) np.maximum(a,b)\n",
    "                optionValues[idx-1] = np.maximum(0, payoff)\n",
    "                optionValues[idx-1] = np.maximum(optionValues[idx-1],disc*(q*optionValues[idxFunc(i+1,j+1)-1] + \\\n",
    "                                                                    (1-q)*optionValues[idxFunc(i,j+1)-1]))\n",
    "            else:\n",
    "                #american_tree_div(S0,K,T,r,b,N,sigma,divAmts,divTimes, opttype='c')\n",
    "                valNoEx = american_tree_div(price-divAmts[0], K, T-divTimes[0]*dt, r, b, N - divTimes[0],sigma,\n",
    "                                            divAmts[1:nDiv-1],divTimes[1:nDiv-1] - divTimes[0],'c')\n",
    "                valEx = np.maximum(0, payoff)\n",
    "                optionValues[idx-1] = np.maximum(valNoEx, valEx)\n",
    "\n",
    "    return optionValues[0]"
   ]
  },
  {
   "cell_type": "code",
   "execution_count": 3,
   "metadata": {
    "pycharm": {
     "name": "#%%\n"
    }
   },
   "outputs": [],
   "source": [
    "AAPL = pd.read_csv('DailyReturn.csv')['AAPL']\n",
    "mean_n, var_n = stats.distributions.norm.fit(AAPL)\n",
    "Sfinal = np.empty(500)\n",
    "for times in range(500):\n",
    "    Price = np.empty(11)\n",
    "    Price[0] = 164.85\n",
    "    for i in range(1,11):\n",
    "        Price[i] = Price[i-1] * (1 + np.random.normal(0, var_n))\n",
    "    Sfinal[times] = Price[10]\n",
    "\n",
    "S = Sfinal\n",
    "T = 11/365\n",
    "r = 0.0025\n",
    "b = r\n",
    "N = 11\n",
    "sigma = np.sqrt(var_n)\n",
    "divAmts = np.array([1.0])\n",
    "divTimes = np.array([8])"
   ]
  },
  {
   "cell_type": "code",
   "execution_count": 4,
   "metadata": {
    "pycharm": {
     "name": "#%%\n"
    }
   },
   "outputs": [
    {
     "data": {
      "text/html": [
       "<div>\n",
       "<style scoped>\n",
       "    .dataframe tbody tr th:only-of-type {\n",
       "        vertical-align: middle;\n",
       "    }\n",
       "\n",
       "    .dataframe tbody tr th {\n",
       "        vertical-align: top;\n",
       "    }\n",
       "\n",
       "    .dataframe thead th {\n",
       "        text-align: right;\n",
       "    }\n",
       "</style>\n",
       "<table border=\"1\" class=\"dataframe\">\n",
       "  <thead>\n",
       "    <tr style=\"text-align: right;\">\n",
       "      <th></th>\n",
       "      <th>Portfolio</th>\n",
       "      <th>Type</th>\n",
       "      <th>Underlying</th>\n",
       "      <th>Holding</th>\n",
       "      <th>OptionType</th>\n",
       "      <th>ExpirationDate</th>\n",
       "      <th>Strike</th>\n",
       "      <th>CurrentPrice</th>\n",
       "      <th>CurrentValue</th>\n",
       "    </tr>\n",
       "  </thead>\n",
       "  <tbody>\n",
       "    <tr>\n",
       "      <th>0</th>\n",
       "      <td>Straddle</td>\n",
       "      <td>Option</td>\n",
       "      <td>AAPL</td>\n",
       "      <td>1</td>\n",
       "      <td>c</td>\n",
       "      <td>2022-03-18</td>\n",
       "      <td>165.0</td>\n",
       "      <td>4.50</td>\n",
       "      <td>4.50</td>\n",
       "    </tr>\n",
       "    <tr>\n",
       "      <th>1</th>\n",
       "      <td>Straddle</td>\n",
       "      <td>Option</td>\n",
       "      <td>AAPL</td>\n",
       "      <td>1</td>\n",
       "      <td>p</td>\n",
       "      <td>2022-03-18</td>\n",
       "      <td>165.0</td>\n",
       "      <td>4.40</td>\n",
       "      <td>4.40</td>\n",
       "    </tr>\n",
       "    <tr>\n",
       "      <th>2</th>\n",
       "      <td>SynLong</td>\n",
       "      <td>Option</td>\n",
       "      <td>AAPL</td>\n",
       "      <td>1</td>\n",
       "      <td>c</td>\n",
       "      <td>2022-03-18</td>\n",
       "      <td>165.0</td>\n",
       "      <td>4.50</td>\n",
       "      <td>4.50</td>\n",
       "    </tr>\n",
       "    <tr>\n",
       "      <th>3</th>\n",
       "      <td>SynLong</td>\n",
       "      <td>Option</td>\n",
       "      <td>AAPL</td>\n",
       "      <td>-1</td>\n",
       "      <td>p</td>\n",
       "      <td>2022-03-18</td>\n",
       "      <td>165.0</td>\n",
       "      <td>4.40</td>\n",
       "      <td>-4.40</td>\n",
       "    </tr>\n",
       "    <tr>\n",
       "      <th>4</th>\n",
       "      <td>CallSpread</td>\n",
       "      <td>Option</td>\n",
       "      <td>AAPL</td>\n",
       "      <td>1</td>\n",
       "      <td>c</td>\n",
       "      <td>2022-03-18</td>\n",
       "      <td>165.0</td>\n",
       "      <td>4.50</td>\n",
       "      <td>4.50</td>\n",
       "    </tr>\n",
       "    <tr>\n",
       "      <th>5</th>\n",
       "      <td>CallSpread</td>\n",
       "      <td>Option</td>\n",
       "      <td>AAPL</td>\n",
       "      <td>-1</td>\n",
       "      <td>c</td>\n",
       "      <td>2022-03-18</td>\n",
       "      <td>175.0</td>\n",
       "      <td>0.72</td>\n",
       "      <td>-0.72</td>\n",
       "    </tr>\n",
       "    <tr>\n",
       "      <th>6</th>\n",
       "      <td>PutSpread</td>\n",
       "      <td>Option</td>\n",
       "      <td>AAPL</td>\n",
       "      <td>1</td>\n",
       "      <td>p</td>\n",
       "      <td>2022-03-18</td>\n",
       "      <td>165.0</td>\n",
       "      <td>4.40</td>\n",
       "      <td>4.40</td>\n",
       "    </tr>\n",
       "    <tr>\n",
       "      <th>7</th>\n",
       "      <td>PutSpread</td>\n",
       "      <td>Option</td>\n",
       "      <td>AAPL</td>\n",
       "      <td>-1</td>\n",
       "      <td>p</td>\n",
       "      <td>2022-03-18</td>\n",
       "      <td>155.0</td>\n",
       "      <td>1.60</td>\n",
       "      <td>-1.60</td>\n",
       "    </tr>\n",
       "    <tr>\n",
       "      <th>8</th>\n",
       "      <td>Stock</td>\n",
       "      <td>Stock</td>\n",
       "      <td>AAPL</td>\n",
       "      <td>1</td>\n",
       "      <td>NaN</td>\n",
       "      <td>NaT</td>\n",
       "      <td>NaN</td>\n",
       "      <td>164.85</td>\n",
       "      <td>164.85</td>\n",
       "    </tr>\n",
       "    <tr>\n",
       "      <th>9</th>\n",
       "      <td>Call</td>\n",
       "      <td>Option</td>\n",
       "      <td>AAPL</td>\n",
       "      <td>1</td>\n",
       "      <td>c</td>\n",
       "      <td>2022-03-18</td>\n",
       "      <td>165.0</td>\n",
       "      <td>4.50</td>\n",
       "      <td>4.50</td>\n",
       "    </tr>\n",
       "    <tr>\n",
       "      <th>10</th>\n",
       "      <td>Put</td>\n",
       "      <td>Option</td>\n",
       "      <td>AAPL</td>\n",
       "      <td>1</td>\n",
       "      <td>p</td>\n",
       "      <td>2022-03-18</td>\n",
       "      <td>165.0</td>\n",
       "      <td>4.40</td>\n",
       "      <td>4.40</td>\n",
       "    </tr>\n",
       "    <tr>\n",
       "      <th>11</th>\n",
       "      <td>CoveredCall</td>\n",
       "      <td>Stock</td>\n",
       "      <td>AAPL</td>\n",
       "      <td>1</td>\n",
       "      <td>NaN</td>\n",
       "      <td>NaT</td>\n",
       "      <td>NaN</td>\n",
       "      <td>164.85</td>\n",
       "      <td>164.85</td>\n",
       "    </tr>\n",
       "    <tr>\n",
       "      <th>12</th>\n",
       "      <td>CoveredCall</td>\n",
       "      <td>Option</td>\n",
       "      <td>AAPL</td>\n",
       "      <td>-1</td>\n",
       "      <td>c</td>\n",
       "      <td>2022-03-18</td>\n",
       "      <td>165.0</td>\n",
       "      <td>4.50</td>\n",
       "      <td>-4.50</td>\n",
       "    </tr>\n",
       "    <tr>\n",
       "      <th>13</th>\n",
       "      <td>ProtectedPut</td>\n",
       "      <td>Stock</td>\n",
       "      <td>AAPL</td>\n",
       "      <td>1</td>\n",
       "      <td>NaN</td>\n",
       "      <td>NaT</td>\n",
       "      <td>NaN</td>\n",
       "      <td>164.85</td>\n",
       "      <td>164.85</td>\n",
       "    </tr>\n",
       "    <tr>\n",
       "      <th>14</th>\n",
       "      <td>ProtectedPut</td>\n",
       "      <td>Option</td>\n",
       "      <td>AAPL</td>\n",
       "      <td>1</td>\n",
       "      <td>p</td>\n",
       "      <td>2022-03-18</td>\n",
       "      <td>165.0</td>\n",
       "      <td>4.40</td>\n",
       "      <td>4.40</td>\n",
       "    </tr>\n",
       "  </tbody>\n",
       "</table>\n",
       "</div>"
      ],
      "text/plain": [
       "       Portfolio    Type Underlying  Holding OptionType ExpirationDate  \\\n",
       "0       Straddle  Option       AAPL        1          c     2022-03-18   \n",
       "1       Straddle  Option       AAPL        1          p     2022-03-18   \n",
       "2        SynLong  Option       AAPL        1          c     2022-03-18   \n",
       "3        SynLong  Option       AAPL       -1          p     2022-03-18   \n",
       "4     CallSpread  Option       AAPL        1          c     2022-03-18   \n",
       "5     CallSpread  Option       AAPL       -1          c     2022-03-18   \n",
       "6      PutSpread  Option       AAPL        1          p     2022-03-18   \n",
       "7      PutSpread  Option       AAPL       -1          p     2022-03-18   \n",
       "8          Stock   Stock       AAPL        1        NaN            NaT   \n",
       "9          Call   Option       AAPL        1          c     2022-03-18   \n",
       "10          Put   Option       AAPL        1          p     2022-03-18   \n",
       "11   CoveredCall   Stock       AAPL        1        NaN            NaT   \n",
       "12   CoveredCall  Option       AAPL       -1          c     2022-03-18   \n",
       "13  ProtectedPut   Stock       AAPL        1        NaN            NaT   \n",
       "14  ProtectedPut  Option       AAPL        1          p     2022-03-18   \n",
       "\n",
       "    Strike  CurrentPrice  CurrentValue  \n",
       "0    165.0          4.50          4.50  \n",
       "1    165.0          4.40          4.40  \n",
       "2    165.0          4.50          4.50  \n",
       "3    165.0          4.40         -4.40  \n",
       "4    165.0          4.50          4.50  \n",
       "5    175.0          0.72         -0.72  \n",
       "6    165.0          4.40          4.40  \n",
       "7    155.0          1.60         -1.60  \n",
       "8      NaN        164.85        164.85  \n",
       "9    165.0          4.50          4.50  \n",
       "10   165.0          4.40          4.40  \n",
       "11     NaN        164.85        164.85  \n",
       "12   165.0          4.50         -4.50  \n",
       "13     NaN        164.85        164.85  \n",
       "14   165.0          4.40          4.40  "
      ]
     },
     "execution_count": 4,
     "metadata": {},
     "output_type": "execute_result"
    }
   ],
   "source": [
    "portfolios = pd.read_csv(\"problem2.csv\", parse_dates=['ExpirationDate'])\n",
    "portfolios['CurrentValue'] = portfolios['CurrentPrice'] * portfolios['Holding']\n",
    "portfolios.loc[portfolios['OptionType'] == 'Call', 'OptionType'] = 'c'\n",
    "portfolios.loc[portfolios['OptionType'] == 'Put', 'OptionType'] = 'p'\n",
    "portfolios"
   ]
  },
  {
   "cell_type": "code",
   "execution_count": 5,
   "metadata": {
    "pycharm": {
     "name": "#%%\n"
    }
   },
   "outputs": [],
   "source": [
    "from riskmgmt.var_es import VaR_Norm, ES_Norm"
   ]
  },
  {
   "cell_type": "code",
   "execution_count": 6,
   "metadata": {
    "pycharm": {
     "name": "#%%\n"
    }
   },
   "outputs": [],
   "source": [
    "def Mean_VaR_ES(X):\n",
    "    return [X.mean(), VaR_Norm(X), ES_Norm(X)]"
   ]
  },
  {
   "cell_type": "code",
   "execution_count": 7,
   "metadata": {
    "pycharm": {
     "name": "#%%\n"
    }
   },
   "outputs": [],
   "source": [
    "ans = portfolios[['Portfolio','Underlying']].drop_duplicates('Portfolio')"
   ]
  },
  {
   "cell_type": "code",
   "execution_count": 8,
   "metadata": {
    "pycharm": {
     "name": "#%%\n"
    }
   },
   "outputs": [],
   "source": [
    "#american_tree_div(S0,K,T,r,b,N,sigma,divAmts,divTimes, opttype='c')\n",
    "Straddle = np.zeros(500)\n",
    "for i in range(500):\n",
    "    Straddle[i] = american_tree_div(S[i],165,T,r,r,11,sigma, divAmts,divTimes, 'c') \\\n",
    "           + american_tree_div(S[i],165,T,r,r,11,sigma, divAmts,divTimes, 'p') \\\n",
    "            - 4.5 - 4.4\n",
    "\n",
    "ans.loc[ans['Portfolio'] == 'Straddle', 'Mean'] = Mean_VaR_ES(Straddle)[0]\n",
    "ans.loc[ans['Portfolio'] == 'Straddle', 'VaR'] = Mean_VaR_ES(Straddle)[1]\n",
    "ans.loc[ans['Portfolio'] == 'Straddle', 'ES'] = Mean_VaR_ES(Straddle)[2]"
   ]
  },
  {
   "cell_type": "code",
   "execution_count": 9,
   "metadata": {
    "pycharm": {
     "name": "#%%\n"
    }
   },
   "outputs": [],
   "source": [
    "SynLong = np.zeros(500)\n",
    "for i in range(500):\n",
    "    SynLong[i] = american_tree_div(S[i],165,T,r,r,11,sigma, divAmts,divTimes, 'c') \\\n",
    "           - american_tree_div(S[i],165,T,r,r,11,sigma, divAmts,divTimes, 'p') \\\n",
    "            - 4.5 + 4.4\n",
    "\n",
    "ans.loc[ans['Portfolio'] == 'SynLong', 'Mean'] = Mean_VaR_ES(SynLong)[0]\n",
    "ans.loc[ans['Portfolio'] == 'SynLong', 'VaR'] = Mean_VaR_ES(SynLong)[1]\n",
    "ans.loc[ans['Portfolio'] == 'SynLong', 'ES'] = Mean_VaR_ES(SynLong)[2]"
   ]
  },
  {
   "cell_type": "code",
   "execution_count": 10,
   "metadata": {
    "pycharm": {
     "name": "#%%\n"
    }
   },
   "outputs": [],
   "source": [
    "CallSpread = np.zeros(500)\n",
    "for i in range(500):\n",
    "    CallSpread[i] = american_tree_div(S[i],165,T,r,r,11,sigma, divAmts,divTimes, 'c') \\\n",
    "           - american_tree_div(S[i],175,T,r,r,11,sigma, divAmts,divTimes, 'c') \\\n",
    "           - 4.5 + 0.72\n",
    "\n",
    "ans.loc[ans['Portfolio'] == 'CallSpread', 'Mean'] = Mean_VaR_ES(CallSpread)[0]\n",
    "ans.loc[ans['Portfolio'] == 'CallSpread', 'VaR'] = Mean_VaR_ES(CallSpread)[1]\n",
    "ans.loc[ans['Portfolio'] == 'CallSpread', 'ES'] = Mean_VaR_ES(CallSpread)[2]\n"
   ]
  },
  {
   "cell_type": "code",
   "execution_count": 11,
   "metadata": {
    "pycharm": {
     "name": "#%%\n"
    }
   },
   "outputs": [],
   "source": [
    "PutSpread = np.zeros(500)\n",
    "for i in range(500):\n",
    "    PutSpread[i] = american_tree_div(S[i],165,T,r,r,11,sigma, divAmts,divTimes, 'c') \\\n",
    "           - american_tree_div(S[i],155,T,r,r,11,sigma, divAmts,divTimes, 'c') \\\n",
    "           - 4.4 + 1.6\n",
    "\n",
    "ans.loc[ans['Portfolio'] == 'PutSpread', 'Mean'] = Mean_VaR_ES(PutSpread)[0]\n",
    "ans.loc[ans['Portfolio'] == 'PutSpread', 'VaR'] = Mean_VaR_ES(PutSpread)[1]\n",
    "ans.loc[ans['Portfolio'] == 'PutSpread', 'ES'] = Mean_VaR_ES(PutSpread)[2]\n"
   ]
  },
  {
   "cell_type": "code",
   "execution_count": 12,
   "metadata": {
    "pycharm": {
     "name": "#%%\n"
    }
   },
   "outputs": [],
   "source": [
    "Stock = S - 164.85\n",
    "ans.loc[ans['Portfolio'] == 'Stock', 'Mean'] = Mean_VaR_ES(Stock)[0]\n",
    "ans.loc[ans['Portfolio'] == 'Stock', 'VaR'] = Mean_VaR_ES(Stock)[1]\n",
    "ans.loc[ans['Portfolio'] == 'Stock', 'ES'] = Mean_VaR_ES(Stock)[2]"
   ]
  },
  {
   "cell_type": "code",
   "execution_count": 21,
   "metadata": {
    "pycharm": {
     "name": "#%%\n"
    }
   },
   "outputs": [],
   "source": [
    "Call = np.zeros(500)\n",
    "for i in range(500):\n",
    "    Call[i] = american_tree_div(S[i],165,T,r,r,11,sigma, divAmts,divTimes, 'c') - 4.5\n",
    "ans.loc[ans['Portfolio'] == 'Call ', 'Mean'] = Mean_VaR_ES(Call)[0]\n",
    "ans.loc[ans['Portfolio'] == 'Call ', 'VaR'] = Mean_VaR_ES(Call)[1]\n",
    "ans.loc[ans['Portfolio'] == 'Call ', 'ES'] = Mean_VaR_ES(Call)[2]\n"
   ]
  },
  {
   "cell_type": "code",
   "execution_count": 22,
   "metadata": {
    "pycharm": {
     "name": "#%%\n"
    }
   },
   "outputs": [],
   "source": [
    "Put = np.zeros(500)\n",
    "for i in range(500):\n",
    "    Put[i] = american_tree_div(S[i],165,T,r,r,11,sigma, divAmts,divTimes, 'p') - 4.4\n",
    "ans.loc[ans['Portfolio'] == 'Put ', 'Mean'] = Mean_VaR_ES(Put)[0]\n",
    "ans.loc[ans['Portfolio'] == 'Put ', 'VaR'] = Mean_VaR_ES(Put)[1]\n",
    "ans.loc[ans['Portfolio'] == 'Put ', 'ES'] = Mean_VaR_ES(Put)[2]"
   ]
  },
  {
   "cell_type": "code",
   "execution_count": 19,
   "metadata": {
    "pycharm": {
     "name": "#%%\n"
    }
   },
   "outputs": [],
   "source": [
    "CoveredCall = np.zeros(500)\n",
    "for i in range(500):\n",
    "    CoveredCall[i] = - american_tree_div(S[i],165,T,r,r,11,sigma, divAmts,divTimes, 'c') + S[i] + 4.5 - 164.85\n",
    "ans.loc[ans['Portfolio'] == 'CoveredCall', 'Mean'] = Mean_VaR_ES(CoveredCall)[0]\n",
    "ans.loc[ans['Portfolio'] == 'CoveredCall', 'VaR'] = Mean_VaR_ES(CoveredCall)[1]\n",
    "ans.loc[ans['Portfolio'] == 'CoveredCall', 'ES'] = Mean_VaR_ES(CoveredCall)[2]\n"
   ]
  },
  {
   "cell_type": "code",
   "execution_count": 24,
   "metadata": {
    "pycharm": {
     "name": "#%%\n"
    }
   },
   "outputs": [
    {
     "data": {
      "text/html": [
       "<div>\n",
       "<style scoped>\n",
       "    .dataframe tbody tr th:only-of-type {\n",
       "        vertical-align: middle;\n",
       "    }\n",
       "\n",
       "    .dataframe tbody tr th {\n",
       "        vertical-align: top;\n",
       "    }\n",
       "\n",
       "    .dataframe thead th {\n",
       "        text-align: right;\n",
       "    }\n",
       "</style>\n",
       "<table border=\"1\" class=\"dataframe\">\n",
       "  <thead>\n",
       "    <tr style=\"text-align: right;\">\n",
       "      <th></th>\n",
       "      <th>Portfolio</th>\n",
       "      <th>Underlying</th>\n",
       "      <th>Mean</th>\n",
       "      <th>VaR</th>\n",
       "      <th>ES</th>\n",
       "    </tr>\n",
       "  </thead>\n",
       "  <tbody>\n",
       "    <tr>\n",
       "      <th>0</th>\n",
       "      <td>Straddle</td>\n",
       "      <td>AAPL</td>\n",
       "      <td>1.874196</td>\n",
       "      <td>9.856226</td>\n",
       "      <td>13.002757</td>\n",
       "    </tr>\n",
       "    <tr>\n",
       "      <th>2</th>\n",
       "      <td>SynLong</td>\n",
       "      <td>AAPL</td>\n",
       "      <td>-3.036837</td>\n",
       "      <td>15.504653</td>\n",
       "      <td>19.049275</td>\n",
       "    </tr>\n",
       "    <tr>\n",
       "      <th>4</th>\n",
       "      <td>CallSpread</td>\n",
       "      <td>AAPL</td>\n",
       "      <td>-0.529274</td>\n",
       "      <td>6.776529</td>\n",
       "      <td>8.503587</td>\n",
       "    </tr>\n",
       "    <tr>\n",
       "      <th>6</th>\n",
       "      <td>PutSpread</td>\n",
       "      <td>AAPL</td>\n",
       "      <td>-10.399151</td>\n",
       "      <td>16.206265</td>\n",
       "      <td>17.724866</td>\n",
       "    </tr>\n",
       "    <tr>\n",
       "      <th>8</th>\n",
       "      <td>Stock</td>\n",
       "      <td>AAPL</td>\n",
       "      <td>0.182732</td>\n",
       "      <td>13.383667</td>\n",
       "      <td>16.883853</td>\n",
       "    </tr>\n",
       "    <tr>\n",
       "      <th>9</th>\n",
       "      <td>Call</td>\n",
       "      <td>AAPL</td>\n",
       "      <td>-0.581320</td>\n",
       "      <td>9.543464</td>\n",
       "      <td>11.495619</td>\n",
       "    </tr>\n",
       "    <tr>\n",
       "      <th>10</th>\n",
       "      <td>Put</td>\n",
       "      <td>AAPL</td>\n",
       "      <td>2.455516</td>\n",
       "      <td>6.059890</td>\n",
       "      <td>8.457017</td>\n",
       "    </tr>\n",
       "    <tr>\n",
       "      <th>11</th>\n",
       "      <td>CoveredCall</td>\n",
       "      <td>AAPL</td>\n",
       "      <td>0.764053</td>\n",
       "      <td>6.728945</td>\n",
       "      <td>8.721250</td>\n",
       "    </tr>\n",
       "    <tr>\n",
       "      <th>13</th>\n",
       "      <td>ProtectedPut</td>\n",
       "      <td>AAPL</td>\n",
       "      <td>2.638249</td>\n",
       "      <td>9.196510</td>\n",
       "      <td>12.306327</td>\n",
       "    </tr>\n",
       "  </tbody>\n",
       "</table>\n",
       "</div>"
      ],
      "text/plain": [
       "       Portfolio Underlying       Mean        VaR         ES\n",
       "0       Straddle       AAPL   1.874196   9.856226  13.002757\n",
       "2        SynLong       AAPL  -3.036837  15.504653  19.049275\n",
       "4     CallSpread       AAPL  -0.529274   6.776529   8.503587\n",
       "6      PutSpread       AAPL -10.399151  16.206265  17.724866\n",
       "8          Stock       AAPL   0.182732  13.383667  16.883853\n",
       "9          Call        AAPL  -0.581320   9.543464  11.495619\n",
       "10          Put        AAPL   2.455516   6.059890   8.457017\n",
       "11   CoveredCall       AAPL   0.764053   6.728945   8.721250\n",
       "13  ProtectedPut       AAPL   2.638249   9.196510  12.306327"
      ]
     },
     "execution_count": 24,
     "metadata": {},
     "output_type": "execute_result"
    }
   ],
   "source": [
    "ProtectedPut = np.zeros(500)\n",
    "for i in range(500):\n",
    "    ProtectedPut[i] = american_tree_div(S[i],165,T,r,r,11,sigma, divAmts,divTimes, 'p') + S[i] - 4.4 - 164.85\n",
    "ans.loc[ans['Portfolio'] == 'ProtectedPut', 'Mean'] = Mean_VaR_ES(ProtectedPut)[0]\n",
    "ans.loc[ans['Portfolio'] == 'ProtectedPut', 'VaR'] = Mean_VaR_ES(ProtectedPut)[1]\n",
    "ans.loc[ans['Portfolio'] == 'ProtectedPut', 'ES'] = Mean_VaR_ES(ProtectedPut)[2]\n",
    "\n",
    "ans"
   ]
  }
 ],
 "metadata": {
  "kernelspec": {
   "display_name": "PyCharm (ft590-riskmgmt)",
   "language": "python",
   "name": "pycharm-9b872806"
  },
  "language_info": {
   "codemirror_mode": {
    "name": "ipython",
    "version": 3
   },
   "file_extension": ".py",
   "mimetype": "text/x-python",
   "name": "python",
   "nbconvert_exporter": "python",
   "pygments_lexer": "ipython3",
   "version": "3.8.5"
  }
 },
 "nbformat": 4,
 "nbformat_minor": 1
}
